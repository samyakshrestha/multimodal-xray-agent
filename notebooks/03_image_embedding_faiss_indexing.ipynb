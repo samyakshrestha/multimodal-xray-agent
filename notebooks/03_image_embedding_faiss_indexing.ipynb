{
 "cells": [
  {
   "cell_type": "markdown",
   "metadata": {
    "id": "RGyIEC2FAFvA"
   },
   "source": [
    "# Notebook: CheXpert + ChestXray14 Preprocessing and Image Embedding\n",
    "\n",
    "This notebook performs all image-side preprocessing and indexing for the multimodal chest X-ray retrieval pipeline. It prepares embeddings for over 350,000 X-ray images across two datasets—**CheXpert** and **ChestXray14**—and saves them in a FAISS index for fast nearest-neighbor retrieval. The notebook runs entirely on the Colab SSD using an A100 GPU to avoid Google Drive I/O limitations.\n",
    "\n",
    "\n",
    "---\n",
    "\n",
    "\n",
    "## Background: What Are Embeddings and FAISS?\n",
    "\n",
    "### What is an Image Embedding?\n",
    "An **embedding** is a dense vector representation of an image (or text) that captures its semantic meaning in a high-dimensional space. In this notebook, we use a pretrained **BiomedCLIP** vision encoder to convert each chest X-ray image into a 512-dimensional vector that encodes its visual features in a way that is meaningful for similarity comparisons.\n",
    "\n",
    "These vectors allow us to compare images not by raw pixel values, but by how semantically similar they are—e.g., images with similar medical findings are mapped closer together.\n",
    "\n",
    "### What is FAISS?\n",
    "**FAISS** (Facebook AI Similarity Search) is a library for fast, scalable nearest-neighbor search on dense vectors. It supports indexing millions of high-dimensional embeddings and querying them efficiently using various distance metrics like cosine similarity or Euclidean distance.\n",
    "\n",
    "In this project, we:\n",
    "- Normalize each image embedding to unit length\n",
    "- Use **FAISS's IndexFlatIP** (inner product) to perform similarity search over the normalized vectors\n",
    "- Store the index and aligned UUIDs for real-time retrieval in the Radiology Assistant\n",
    "\n",
    "This enables us to later retrieve the most visually similar medical images to a user-uploaded query in real-time, without needing to store or access the full image dataset during inference.\n",
    "\n",
    "---\n",
    "\n",
    "## Workflow Overview\n",
    "\n",
    "### **Step 1 – Environment Setup**\n",
    "- Verified GPU (A100 or T4) and selected appropriate compute backend (`torch.device`).\n",
    "- Installed required libraries (e.g., `open_clip_torch`, `faiss-cpu`).\n",
    "\n",
    "### **Step 2 – Load Preprocessed CheXpert Data**\n",
    "- Copied and unzipped `chexpert_flat.zip` into `/content/chexpert/` on Colab SSD.\n",
    "- All images were converted to 224×224 grayscale `.png` in a prior preprocessing stage.\n",
    "\n",
    "### **Step 3 – Define Paths**\n",
    "- Defined fixed path constants for:\n",
    "  - CheXpert directory: `/content/chexpert/`\n",
    "  - Chest14 directory: `/content/images-224/images-224/`\n",
    "  - Drive-relative paths for UUID mapping and FAISS save locations.\n",
    "\n",
    "### **Step 4 – Define Transforms**\n",
    "- Used OpenCLIP's BiomedCLIP transform: `Resize(224) → CenterCrop → ToTensor → Normalize(...)` from the pretrained preprocessing pipeline.\n",
    "\n",
    "### **Step 5 – Launch Preprocessing (CheXpert Only)**\n",
    "- Preprocessing was already complete; this step involved verifying and preparing standardized filenames.\n",
    "- No new image files were created—just reused existing `.png`s on SSD.\n",
    "\n",
    "### **Step 6 – Generate Image Metadata**\n",
    "- Created `image_metadata` list of dictionaries with:\n",
    "  - `uuid`: unique image ID\n",
    "  - `path`: relative Drive path for later lookup\n",
    "  - `dataset`: either `\"chexpert\"` or `\"chest14\"`\n",
    "\n",
    "### **Step 7 – Save Manifest**\n",
    "- Dumped `image_metadata.jsonl` (≈45 MB) using `json.dumps` line-by-line format.\n",
    "- Manifest persisted to Drive: `./data/indexes/image_metadata.jsonl`\n",
    "\n",
    "### **Step 8 – Load BiomedCLIP Vision Encoder**\n",
    "- Loaded `microsoft/BiomedCLIP-PubMedBERT_256-vit_base_patch16_224` using `open_clip.create_model_from_pretrained(...)`.\n",
    "- Only `encode_image()` was used; model weights remained frozen.\n",
    "\n",
    "### **Step 9 – Embed Images in Batches**\n",
    "- Iterated over all entries in `image_metadata.jsonl`.\n",
    "- Loaded images from **SSD**, preprocessed, and passed through BiomedCLIP.\n",
    "- Appended resulting 512-D float32 embeddings and UUIDs to memory.\n",
    "\n",
    "### **Step 10 – Build FAISS Index**\n",
    "- Normalized embeddings with `L2 norm` for cosine similarity.\n",
    "- Used `faiss.IndexFlatIP(dim=512)` and wrote the binary index to:\n",
    "  - `./data/indexes/image_faiss.bin`\n",
    "  - `./data/indexes/image_uuids.json`\n",
    "\n",
    "---\n",
    "\n",
    "## Final Output Files\n",
    "\n",
    "```\n",
    "| Filename                  | Purpose                                   | Size     |\n",
    "|---------------------------|--------------------------------------------|----------|\n",
    "| `image_faiss.bin`         | FAISS index for ~350k images               | ~655 MB  |\n",
    "| `image_uuids.json`        | One-to-one mapping from index to UUID      | ~12 MB   |\n",
    "| `image_metadata.jsonl`    | Full manifest with path + dataset info     | ~45 MB   |\n",
    "\n",
    "```"
   ]
  },
  {
   "cell_type": "markdown",
   "metadata": {
    "id": "W-lfhM0dDkuW"
   },
   "source": [
    "## Step 0: Mounting Google Drive and Importing Libraries"
   ]
  },
  {
   "cell_type": "code",
   "execution_count": null,
   "metadata": {
    "id": "KrJn5lsaDeNc"
   },
   "outputs": [],
   "source": [
    "from google.colab import drive\n",
    "drive.mount('/content/drive')\n",
    "%cd /content/drive/MyDrive/multimodal-xray-agent\n",
    "!ls"
   ]
  },
  {
   "cell_type": "code",
   "execution_count": null,
   "metadata": {
    "id": "QRi8nG-CYukE"
   },
   "outputs": [],
   "source": [
    "!pip install open_clip_torch faiss-cpu -q"
   ]
  },
  {
   "cell_type": "code",
   "execution_count": null,
   "metadata": {
    "id": "XS2iiuxLDrg-"
   },
   "outputs": [],
   "source": [
    "import torch\n",
    "import faiss\n",
    "import numpy as np\n",
    "import glob, random\n",
    "import itertools, pprintimport os, uuid, json, torch, shutil\n",
    "\n",
    "from tqdm import tqdm\n",
    "from PIL import Image\n",
    "from pathlib import Path\n",
    "from torchvision import transforms\n",
    "from concurrent.futures import ThreadPoolExecutor\n",
    "from open_clip import create_model_from_pretrained, get_tokenizer\n",
    "\n",
    "from src.chexpert_preprocessing import process_one"
   ]
  },
  {
   "cell_type": "markdown",
   "metadata": {
    "id": "uFk_DUroDx7o"
   },
   "source": [
    "## Step 1: Verifying GPU and Environment"
   ]
  },
  {
   "cell_type": "code",
   "execution_count": null,
   "metadata": {
    "colab": {
     "base_uri": "https://localhost:8080/"
    },
    "executionInfo": {
     "elapsed": 10,
     "status": "ok",
     "timestamp": 1748511679765,
     "user": {
      "displayName": "Samyak Shrestha (Caesar)",
      "userId": "13083503381857072620"
     },
     "user_tz": 300
    },
    "id": "5UgRvGe5DykL",
    "outputId": "b2dc284a-737a-43b8-8b97-222a4e2eafb3"
   },
   "outputs": [
    {
     "name": "stdout",
     "output_type": "stream",
     "text": [
      "GPU detected: NVIDIA A100-SXM4-40GB\n",
      "Running on device: cuda\n"
     ]
    }
   ],
   "source": [
    "# Device-agnostic setup\n",
    "if torch.cuda.is_available():\n",
    "    device_name = torch.cuda.get_device_name(0)\n",
    "    device = torch.device(\"cuda\")\n",
    "    print(f\"GPU detected: {device_name}\")\n",
    "else:\n",
    "    device = torch.device(\"cpu\")\n",
    "    print(\"GPU not detected. Falling back to CPU.\")\n",
    "\n",
    "print(f\"Running on device: {device}\")"
   ]
  },
  {
   "cell_type": "markdown",
   "metadata": {
    "id": "3tZOBi3WD15R"
   },
   "source": [
    "## Step 2: Loading CheXpert Data to Local SSD"
   ]
  },
  {
   "cell_type": "code",
   "execution_count": null,
   "metadata": {
    "id": "p7Wvu-eoD53K"
   },
   "outputs": [],
   "source": [
    "!cp \"./data/images_sample/chexpert_flat.zip\" /content/"
   ]
  },
  {
   "cell_type": "code",
   "execution_count": null,
   "metadata": {
    "id": "-N0SbHdND6tH"
   },
   "outputs": [],
   "source": [
    "!unzip -q /content/chexpert_flat.zip -d /content"
   ]
  },
  {
   "cell_type": "code",
   "execution_count": null,
   "metadata": {
    "colab": {
     "base_uri": "https://localhost:8080/"
    },
    "executionInfo": {
     "elapsed": 204,
     "status": "ok",
     "timestamp": 1748508888249,
     "user": {
      "displayName": "Samyak Shrestha (Caesar)",
      "userId": "13083503381857072620"
     },
     "user_tz": 300
    },
    "id": "H_pa4Wc6D8iB",
    "outputId": "a6916e68-4c38-4eeb-d789-10f97d7f195c"
   },
   "outputs": [
    {
     "name": "stdout",
     "output_type": "stream",
     "text": [
      "/content/chexpert_flat/patient36133_study1_view1_frontal.jpg\n",
      "/content/chexpert_flat/patient24375_study8_view2_lateral.jpg\n",
      "/content/chexpert_flat/patient28388_study17_view2_frontal.jpg\n"
     ]
    }
   ],
   "source": [
    "!find /content/chexpert_flat -type f | head -n 3"
   ]
  },
  {
   "cell_type": "markdown",
   "metadata": {
    "id": "Pf6utKfWEGB7"
   },
   "source": [
    "## Step 3: Defining Paths"
   ]
  },
  {
   "cell_type": "code",
   "execution_count": null,
   "metadata": {
    "id": "dfVe6WVTEGj1"
   },
   "outputs": [],
   "source": [
    "IN_DIR  = Path(\"/content/chexpert_flat\").resolve()\n",
    "OUT_DIR = Path(\"/content/chexpert\").resolve()\n",
    "OUT_DIR.mkdir(parents=True, exist_ok=True)"
   ]
  },
  {
   "cell_type": "markdown",
   "metadata": {
    "id": "6GHa6YyyENlr"
   },
   "source": [
    "## Step 4: Define Transforms"
   ]
  },
  {
   "cell_type": "code",
   "execution_count": null,
   "metadata": {
    "id": "flPrEZGUEP88"
   },
   "outputs": [],
   "source": [
    "transform = transforms.Compose([\n",
    "    transforms.Resize((224, 224)),\n",
    "    transforms.ToTensor(),          # [0,1]  float32\n",
    "])"
   ]
  },
  {
   "cell_type": "markdown",
   "metadata": {
    "id": "kUhnD9_NEUBK"
   },
   "source": [
    "## Step 5: Launch Parallel Processing (Preprocessing)\n",
    "\n",
    "This is essentially the same step that we used in our notebook to preprocess our dataset. The reason why we are repeating this step here again is that we want to load the files from Colab's SSD rather than Google Drive (which causes I/O errors due to the huge volume of the dataset). I am sure there are other, more optimal ways to solve this problem, but this is the best approach I could think of given my limited time."
   ]
  },
  {
   "cell_type": "code",
   "execution_count": null,
   "metadata": {
    "colab": {
     "base_uri": "https://localhost:8080/"
    },
    "executionInfo": {
     "elapsed": 1394,
     "status": "ok",
     "timestamp": 1748509215168,
     "user": {
      "displayName": "Samyak Shrestha (Caesar)",
      "userId": "13083503381857072620"
     },
     "user_tz": 300
    },
    "id": "fACtMLNnN95o",
    "outputId": "f99f4910-e905-4674-9ff8-5402a12477d1"
   },
   "outputs": [
    {
     "name": "stdout",
     "output_type": "stream",
     "text": [
      "Discovered 223,416 images\n"
     ]
    }
   ],
   "source": [
    "# Find all .jpg files in the input directory and store their paths in a list\n",
    "image_paths = list(IN_DIR.glob(\"*.jpg\"))  \n",
    "print(f\"Discovered {len(image_paths):,} images\") "
   ]
  },
  {
   "cell_type": "code",
   "execution_count": null,
   "metadata": {
    "id": "RXaRCXObEWmb"
   },
   "outputs": [],
   "source": [
    "# Use a thread pool to process images in parallel (4 threads)\n",
    "with ThreadPoolExecutor(max_workers=4) as pool:\n",
    "    # Apply process_one to each image path, showing progress with tqdm\n",
    "    results = list(tqdm(pool.map(process_one, image_paths), total=len(image_paths)))\n",
    "\n",
    "print(f\"\\n Preprocessed {sum(results):,} / {len(image_paths):,} images into {OUT_DIR}\")"
   ]
  },
  {
   "cell_type": "markdown",
   "metadata": {
    "id": "6kNjGmTzFQB5"
   },
   "source": [
    "## Step 6: Generate Image Metadata"
   ]
  },
  {
   "cell_type": "code",
   "execution_count": null,
   "metadata": {
    "colab": {
     "base_uri": "https://localhost:8080/"
    },
    "executionInfo": {
     "elapsed": 969,
     "status": "ok",
     "timestamp": 1748509818433,
     "user": {
      "displayName": "Samyak Shrestha (Caesar)",
      "userId": "13083503381857072620"
     },
     "user_tz": 300
    },
    "id": "kE8DsYuLFTGb",
    "outputId": "c8adea39-5e2c-4f52-de0c-c83157b43c81"
   },
   "outputs": [
    {
     "name": "stderr",
     "output_type": "stream",
     "text": [
      "Build Chexpert image metadata from SSD: 100%|██████████| 223414/223414 [00:00<00:00, 263144.35it/s]\n"
     ]
    }
   ],
   "source": [
    "image_metadata = []\n",
    "\n",
    "# Iterate over all files in the Chexpert output directory\n",
    "for fname in tqdm(os.listdir(OUT_DIR), desc=\"Build Chexpert image metadata from SSD\"):\n",
    "    # Only process files that are PNG images\n",
    "    if fname.endswith(\".png\"):\n",
    "        image_metadata.append({\n",
    "            \"uuid\": str(uuid.uuid4()),  # Generate a unique identifier for each image\n",
    "            \"path\": f\"data/images_sample/chexpert/{fname}\",  # Path relative to Drive, not SSD\n",
    "            \"dataset\": \"chexpert\"  # Indicate the dataset source\n",
    "        })"
   ]
  },
  {
   "cell_type": "code",
   "execution_count": null,
   "metadata": {
    "id": "gBMN69bDFYFs"
   },
   "outputs": [],
   "source": [
    "# Now doing the same for the Chest14 dataset\n",
    "!cp \"./data/images_sample/chest14.zip\" /content/"
   ]
  },
  {
   "cell_type": "code",
   "execution_count": null,
   "metadata": {
    "id": "BP_K33TuJvcz"
   },
   "outputs": [],
   "source": [
    "!unzip -q /content/chest14.zip -d /content"
   ]
  },
  {
   "cell_type": "code",
   "execution_count": null,
   "metadata": {
    "colab": {
     "base_uri": "https://localhost:8080/"
    },
    "executionInfo": {
     "elapsed": 106,
     "status": "ok",
     "timestamp": 1748509896959,
     "user": {
      "displayName": "Samyak Shrestha (Caesar)",
      "userId": "13083503381857072620"
     },
     "user_tz": 300
    },
    "id": "UeEiiF0nJ3mz",
    "outputId": "f125a420-49cc-4810-882d-76b5f02f501d"
   },
   "outputs": [
    {
     "name": "stdout",
     "output_type": "stream",
     "text": [
      "/content/images-224/images-224/00000001_000.png\n",
      "/content/images-224/images-224/00000001_001.png\n",
      "/content/images-224/images-224/00000001_002.png\n"
     ]
    }
   ],
   "source": [
    "!find /content/images-224 -type f | head -n 3"
   ]
  },
  {
   "cell_type": "code",
   "execution_count": null,
   "metadata": {
    "colab": {
     "base_uri": "https://localhost:8080/"
    },
    "executionInfo": {
     "elapsed": 477,
     "status": "ok",
     "timestamp": 1748509913995,
     "user": {
      "displayName": "Samyak Shrestha (Caesar)",
      "userId": "13083503381857072620"
     },
     "user_tz": 300
    },
    "id": "fX7xGFwEJ_27",
    "outputId": "756c50f5-6de2-4395-a662-db1bf317bff8"
   },
   "outputs": [
    {
     "name": "stderr",
     "output_type": "stream",
     "text": [
      "Build Chest14 image metadata: 100%|██████████| 112120/112120 [00:00<00:00, 271400.47it/s]\n"
     ]
    }
   ],
   "source": [
    "# Define the path to the Chest14 images on Colab SSD\n",
    "CHEST14_DIR = Path(\"/content/images-224/images-224\").resolve()\n",
    "\n",
    "# Iterate over all files in the Chest14 directory\n",
    "for fname in tqdm(os.listdir(CHEST14_DIR), desc=\"Build Chest14 image metadata\"):\n",
    "    # Only process PNG files (preprocessed images)\n",
    "    if fname.endswith(\".png\"):\n",
    "        # Append metadata for each image to the image_metadata list\n",
    "        image_metadata.append({\n",
    "            \"uuid\": str(uuid.uuid4()),  # Generate a unique identifier for the image\n",
    "            \"path\": f\"data/images_sample/chest14/{fname}\",  # Path relative to Drive, not SSD\n",
    "            \"dataset\": \"chest14\"  # Mark the dataset source\n",
    "        })"
   ]
  },
  {
   "cell_type": "markdown",
   "metadata": {
    "id": "UtQVDV7gLzts"
   },
   "source": [
    "## Step 7: Saving the Metadata File as jsonl"
   ]
  },
  {
   "cell_type": "code",
   "execution_count": null,
   "metadata": {
    "id": "rLb-FI_MLxDF"
   },
   "outputs": [],
   "source": [
    "# Save locally and copy to Drive\n",
    "jsonl_path = \"/content/image_metadata.jsonl\"\n",
    "with open(jsonl_path, \"w\") as f:\n",
    "    for entry in image_metadata:\n",
    "        f.write(json.dumps(entry) + \"\\n\")"
   ]
  },
  {
   "cell_type": "code",
   "execution_count": null,
   "metadata": {
    "id": "J5mhmBYaMLdd"
   },
   "outputs": [],
   "source": [
    "!cp /content/image_metadata.jsonl /content/drive/MyDrive/multimodal-xray-agent/data/indexes/image_metadata.jsonl"
   ]
  },
  {
   "cell_type": "markdown",
   "metadata": {
    "id": "2kySpw0maIG0"
   },
   "source": [
    "## Step 8 – Load Vision Encoder: BiomedCLIP (OpenCLIP ViT-B/16)\n",
    "\n",
    "We load `microsoft/BiomedCLIP-PubMedBERT_256-vit_base_patch16_224`, a domain-specific vision-language model pretrained on MIMIC-CXR and PMC figures. The vision backbone is a ViT-B/16 transformer, accessed via the `open_clip_torch` interface.\n",
    "\n",
    "**Why this model:**\n",
    "- **Radiology-tuned**: Unlike generic CLIP, BiomedCLIP has seen large volumes of chest X-rays and biomedical image-text pairs.\n",
    "- **Pretrained ViT encoder**: Delivers strong performance with no additional fine-tuning required.\n",
    "- **Frozen weights**: The model is used only for inference (`eval()` mode), ensuring stable and reproducible feature extraction.\n",
    "\n",
    "**Purpose in pipeline:**\n",
    "- Converts each 224×224 grayscale X-ray image into a 512-dimensional float32 embedding using `.encode_image(...)`.\n",
    "- These embeddings are later indexed with FAISS for similarity-based image retrieval.\n",
    "\n",
    "The `preprocess` transform returned by the model includes resizing, normalization, and tensor conversion, ensuring input compatibility with the pretrained ViT-B/16 backbone."
   ]
  },
  {
   "cell_type": "code",
   "execution_count": null,
   "metadata": {
    "id": "vBkJJqDcV4E0"
   },
   "outputs": [],
   "source": [
    "ROOT_DIR = \"/content/drive/MyDrive/multimodal-xray-agent\"\n",
    "IMG_DIR_CHEXPERT = os.path.join(ROOT_DIR, \"data/images_sample/chexpert\")\n",
    "IMG_DIR_CHEST14 = os.path.join(ROOT_DIR, \"data/images_sample/chest14\")\n",
    "INDEX_OUT_DIR = os.path.join(ROOT_DIR, \"data/indexes\")\n",
    "META_OUT_PATH = os.path.join(ROOT_DIR, \"data/indexes/image_metadata.jsonl\") # This is where the image metadata is stored\n",
    "\n",
    "os.makedirs(INDEX_OUT_DIR, exist_ok=True)"
   ]
  },
  {
   "cell_type": "code",
   "execution_count": null,
   "metadata": {
    "id": "SQX_yvevaUgF"
   },
   "outputs": [],
   "source": [
    "# Load model and preprocessing from Hugging Face Hub\n",
    "hf_repo = \"hf-hub:microsoft/BiomedCLIP-PubMedBERT_256-vit_base_patch16_224\"\n",
    "model, preprocess = create_model_from_pretrained(hf_repo)"
   ]
  },
  {
   "cell_type": "code",
   "execution_count": null,
   "metadata": {
    "id": "fehRCGtUaV-P"
   },
   "outputs": [],
   "source": [
    "model = model.to(device).eval()"
   ]
  },
  {
   "cell_type": "code",
   "execution_count": null,
   "metadata": {
    "colab": {
     "base_uri": "https://localhost:8080/"
    },
    "executionInfo": {
     "elapsed": 363,
     "status": "ok",
     "timestamp": 1748511695514,
     "user": {
      "displayName": "Samyak Shrestha (Caesar)",
      "userId": "13083503381857072620"
     },
     "user_tz": 300
    },
    "id": "aIIa0w9QaZW0",
    "outputId": "88a0f959-45ca-4793-fc6e-15c4590ee6f6"
   },
   "outputs": [
    {
     "name": "stdout",
     "output_type": "stream",
     "text": [
      "Output shape (dummy): torch.Size([1, 512])\n"
     ]
    }
   ],
   "source": [
    "print(\"Output shape (dummy):\", model.encode_image(preprocess(Image.new(\"RGB\", (224, 224))).unsqueeze(0).to(device)).shape)"
   ]
  },
  {
   "cell_type": "markdown",
   "metadata": {
    "id": "CKsmT7m6cmNZ"
   },
   "source": [
    "## Step 9 – Embed All Images into Vector Space\n",
    "\n",
    "This step encodes each preprocessed chest X-ray into a fixed-length vector using the BiomedCLIP vision transformer.\n",
    "\n",
    "**Process:**\n",
    "- Loads `image_metadata.jsonl` from local SSD, which contains a UUID and path for each image.\n",
    "- Depending on the dataset (`chexpert` or `chest14`), constructs the correct absolute file path on SSD.\n",
    "- Each image is:\n",
    "  1. Loaded via PIL and converted to RGB (as expected by ViT).\n",
    "  2. Preprocessed using BiomedCLIP’s `preprocess(...)` transform (resize, normalize, tensorize).\n",
    "  3. Passed to `model.encode_image(...)` under `torch.no_grad()` to generate a 512-dimensional float32 embedding.\n",
    "\n",
    "**Output:**\n",
    "- `all_embeddings`: a list of NumPy arrays (shape: 512-d per image).\n",
    "- `all_uuids`: a parallel list of UUIDs for indexing and retrieval linkage.\n"
   ]
  },
  {
   "cell_type": "code",
   "execution_count": null,
   "metadata": {
    "id": "zjvcvchEbzKv"
   },
   "outputs": [],
   "source": [
    "# Load manifest from SSD (not Drive)\n",
    "with open(\"/content/image_metadata.jsonl\", \"r\") as f:\n",
    "    image_metadata = [json.loads(line) for line in f]"
   ]
  },
  {
   "cell_type": "code",
   "execution_count": null,
   "metadata": {
    "colab": {
     "base_uri": "https://localhost:8080/"
    },
    "executionInfo": {
     "elapsed": 2679351,
     "status": "ok",
     "timestamp": 1748516977947,
     "user": {
      "displayName": "Samyak Shrestha (Caesar)",
      "userId": "13083503381857072620"
     },
     "user_tz": 300
    },
    "id": "TT2q2N-Jdfg8",
    "outputId": "23b09365-ae5b-4d52-bf42-cdd499a358a6"
   },
   "outputs": [
    {
     "name": "stderr",
     "output_type": "stream",
     "text": [
      "Embedding images from SSD: 100%|██████████| 335534/335534 [44:39<00:00, 125.23it/s]\n"
     ]
    }
   ],
   "source": [
    "all_embeddings = []\n",
    "all_uuids = []\n",
    "\n",
    "for entry in tqdm(image_metadata, desc=\"Embedding images from SSD\"):\n",
    "    fname = Path(entry[\"path\"]).name\n",
    "\n",
    "    if entry[\"dataset\"] == \"chexpert\":\n",
    "        actual_path = Path(\"/content/chexpert\") / fname\n",
    "    elif entry[\"dataset\"] == \"chest14\":\n",
    "        actual_path = Path(\"/content/images-224/images-224\") / fname\n",
    "    else:\n",
    "        continue\n",
    "\n",
    "    try:\n",
    "        img = Image.open(actual_path).convert(\"RGB\")\n",
    "        img_tensor = preprocess(img).unsqueeze(0).to(device)\n",
    "        with torch.no_grad():\n",
    "            emb = model.encode_image(img_tensor).cpu().numpy()  # Generate 512-d embedding for image\n",
    "        all_embeddings.append(emb)  # Store embedding\n",
    "        all_uuids.append(entry[\"uuid\"])  # Store UUID for indexing\n",
    "    except Exception as e:\n",
    "        print(f\"[ERROR] {actual_path}: {e}\")"
   ]
  },
  {
   "cell_type": "markdown",
   "metadata": {
    "id": "dE2wxO7jw830"
   },
   "source": [
    "## Step 10 – Build FAISS Index & Persist Outputs\n",
    "\n",
    "This step constructs a high-performance image similarity index using FAISS to enable cosine-based nearest neighbor search over the full 350,000-image corpus.\n",
    "\n",
    "**Process:**\n",
    "- **Embedding Flattening:** All 512-dimensional image vectors (`all_embeddings`) are vertically stacked into a single NumPy array of shape `(N, 512)`.\n",
    "- **Normalization:** Each vector is L2-normalized so that cosine similarity reduces to inner product (dot product) in FAISS.\n",
    "- **FAISS Index:** Uses `IndexFlatIP` to build an exact inner-product search index over the normalized vectors.\n",
    "\n",
    "**Storage:**\n",
    "- The FAISS binary index is written to `image_faiss.bin` (≈ 650 MB).\n",
    "- The corresponding `image_uuids.json` file stores the aligned UUIDs for post-retrieval lookup and captioning.\n",
    "\n",
    "**Why It Matters:**\n",
    "- Enables efficient sub-50ms inference-time retrieval over hundreds of thousands of medical images.\n",
    "- Index is self-contained: downstream modules (agents, FastAPI) use only this file + UUIDs for retrieval—raw images are not needed."
   ]
  },
  {
   "cell_type": "code",
   "execution_count": null,
   "metadata": {
    "id": "MnPMfVjHvUy-"
   },
   "outputs": [],
   "source": [
    "# Flatten and normalize embeddings\n",
    "embeddings = np.vstack(all_embeddings).astype(\"float32\")  # Stack all embedding arrays into a single (N, 512) float32 array\n",
    "embeddings /= np.linalg.norm(embeddings, axis=1, keepdims=True)  # L2-normalize each embedding vector for cosine similarity"
   ]
  },
  {
   "cell_type": "code",
   "execution_count": null,
   "metadata": {
    "id": "NtdtRm1yx6mA"
   },
   "outputs": [],
   "source": [
    "# Initialize FAISS index for Inner Product (cosine similarity via normalized vectors)\n",
    "index = faiss.IndexFlatIP(embeddings.shape[1])  # Create a flat (exact) inner product index with dimension 512\n",
    "index.add(embeddings)  # Add all normalized image embeddings to the FAISS index"
   ]
  },
  {
   "cell_type": "code",
   "execution_count": null,
   "metadata": {
    "id": "9TJlqCEix9z8"
   },
   "outputs": [],
   "source": [
    "INDEX_OUT_DIR = os.path.join(ROOT_DIR, \"data/indexes\")\n",
    "INDEX_PATH = os.path.join(INDEX_OUT_DIR, \"image_faiss.bin\")\n",
    "UUIDS_PATH = os.path.join(INDEX_OUT_DIR, \"image_uuids.json\")\n",
    "os.makedirs(INDEX_OUT_DIR, exist_ok=True)"
   ]
  },
  {
   "cell_type": "code",
   "execution_count": null,
   "metadata": {
    "colab": {
     "base_uri": "https://localhost:8080/"
    },
    "executionInfo": {
     "elapsed": 2356,
     "status": "ok",
     "timestamp": 1748517950585,
     "user": {
      "displayName": "Samyak Shrestha (Caesar)",
      "userId": "13083503381857072620"
     },
     "user_tz": 300
    },
    "id": "gstpg20KycTU",
    "outputId": "0c3a88f1-9ea9-4bfe-c9a1-bd72eb8ee215"
   },
   "outputs": [
    {
     "name": "stdout",
     "output_type": "stream",
     "text": [
      "FAISS index saved to: /content/drive/MyDrive/multimodal-xray-agent/data/indexes/image_faiss.bin\n",
      "UUID list saved to: /content/drive/MyDrive/multimodal-xray-agent/data/indexes/image_uuids.json\n"
     ]
    }
   ],
   "source": [
    "# Save index and UUIDs\n",
    "faiss.write_index(index, INDEX_PATH)\n",
    "with open(UUIDS_PATH, \"w\") as f:\n",
    "    json.dump(all_uuids, f)\n",
    "\n",
    "print(f\"FAISS index saved to: {INDEX_PATH}\")\n",
    "print(f\"UUID list saved to: {UUIDS_PATH}\")"
   ]
  }
 ],
 "metadata": {
  "colab": {
   "authorship_tag": "ABX9TyNJAHQn4ppUwPaV3t1luflM",
   "machine_shape": "hm",
   "provenance": []
  },
  "kernelspec": {
   "display_name": "Python 3",
   "name": "python3"
  },
  "language_info": {
   "name": "python"
  }
 },
 "nbformat": 4,
 "nbformat_minor": 0
}
