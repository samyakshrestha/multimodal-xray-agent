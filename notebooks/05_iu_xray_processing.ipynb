{
 "cells": [
  {
   "cell_type": "markdown",
   "metadata": {
    "id": "egLuA5yKBjZT"
   },
   "source": [
    "# Notebook: Processing IU-XRay Dataset\n",
    "\n",
    "This notebook prepares the **Indiana University Chest X-Ray Collection** as a high-quality stand-in for MIMIC-CXR, enabling us to generate a robust caption bank and fine-tuning corpus for our multimodal X-ray agent pipeline.\n",
    "\n",
    "### Objectives\n",
    "- Download, preprocess, and parse image–report pairs from the IU-Xray dataset.\n",
    "- Generate two aligned metadata files:\n",
    "  - `iu_impr.jsonl`: Maps each UUID to its radiologist-written impression.\n",
    "  - `iu_uuids.jsonl`: Maps each UUID to the corresponding preprocessed image path.\n",
    "- Generate 512-dimensional **BiomedCLIP** embeddings for all IU images and save as `iu_vecs.npy`.\n",
    "\n",
    "---\n",
    "\n",
    "### Workflow Overview\n",
    "\n",
    "#### 1. Load Dataset from Hugging Face\n",
    "- We downloaded all 4 Parquet shards from [`ayyuce/Indiana_University_Chest_X-ray_Collection`](https://huggingface.co/datasets/ayyuce/Indiana_University_Chest_X-ray_Collection).\n",
    "- Merged into a single `pandas` dataframe with ~7,430 image-report entries.\n",
    "\n",
    "#### 2. Save and Normalize All Images\n",
    "- Extracted base64-encoded image bytes from each row.\n",
    "- Converted to grayscale, resized to `224×224`, and saved to `data/iu_xray/images/iu_XXXX.png`.\n",
    "- Ensured deterministic UUID-style filenames: `iu_0000.png` → `iu_7430.png`.\n",
    "\n",
    "#### 3. Save Impressions to JSONL\n",
    "- Parsed the `report` field and stored only the cleaned **impression** text.\n",
    "- Saved as `iu_impr.jsonl`, aligned one-to-one with the images.\n",
    "\n",
    "#### 4. Save UUID Metadata\n",
    "- Verified and enumerated the saved PNGs.\n",
    "- Created `iu_uuids.jsonl` to store `{uuid, path}` records.\n",
    "\n",
    "#### 5. BiomedCLIP Embedding\n",
    "- Loaded `microsoft/BiomedCLIP-PubMedBERT_256-vit_base_patch16_224` via `open_clip`.\n",
    "- Embedded all 7,430 IU-Xray images in batches of 32 using GPU.\n",
    "- Saved result as `iu_vecs.npy` with shape `(7430, 512)`.\n",
    "\n",
    "#### 6. Sanity Check\n",
    "- Confirmed:\n",
    "  - UUID–impression–embedding alignment\n",
    "  - Non-zero vector norms\n",
    "  - Consistent indexing and vector dimensionality\n",
    "\n",
    "---\n",
    "\n",
    "### Final Output Directory\n",
    "```bash\n",
    "data/iu_xray/\n",
    "├── raw/                         # Original parquet shards\n",
    "├── images/                      # 224×224 grayscale PNGs (7430)\n",
    "├── iu_impr.jsonl                # Textual impressions (UUID-mapped)\n",
    "├── iu_uuids.jsonl               # Image UUID + path metadata\n",
    "└── iu_vecs.npy                  # BiomedCLIP embeddings (7430 × 512)\n",
    "```"
   ]
  },
  {
   "cell_type": "markdown",
   "metadata": {
    "id": "XtXzzm4dXbef"
   },
   "source": [
    "## Step 0: Mounting Google Drive and Importing Libraries"
   ]
  },
  {
   "cell_type": "code",
   "execution_count": 2,
   "metadata": {
    "colab": {
     "base_uri": "https://localhost:8080/"
    },
    "executionInfo": {
     "elapsed": 16748,
     "status": "ok",
     "timestamp": 1748890487649,
     "user": {
      "displayName": "Samyak Shrestha (Caesar)",
      "userId": "13083503381857072620"
     },
     "user_tz": 300
    },
    "id": "nlxuSTCeOxxG",
    "outputId": "1c9dbbd9-a4ff-40ca-c482-1118389bbd98"
   },
   "outputs": [
    {
     "name": "stdout",
     "output_type": "stream",
     "text": [
      "Mounted at /content/drive\n",
      "/content/drive/MyDrive/multimodal-xray-agent\n",
      "app\t      data\t  LICENSE  notebooks\t   README.md\t     scripts\n",
      "chexpert.zip  deployment  models   PROJECT_LOG.md  requirements.txt  src\n"
     ]
    }
   ],
   "source": [
    "from google.colab import drive\n",
    "drive.mount('/content/drive')\n",
    "%cd /content/drive/MyDrive/multimodal-xray-agent\n",
    "!ls"
   ]
  },
  {
   "cell_type": "code",
   "execution_count": null,
   "metadata": {
    "executionInfo": {
     "elapsed": 2184,
     "status": "aborted",
     "timestamp": 1748890468572,
     "user": {
      "displayName": "Samyak Shrestha (Caesar)",
      "userId": "13083503381857072620"
     },
     "user_tz": 300
    },
    "id": "Ywjkrk0PZxIG"
   },
   "outputs": [],
   "source": [
    "!pip install open_clip_torch -q"
   ]
  },
  {
   "cell_type": "code",
   "execution_count": 3,
   "metadata": {
    "executionInfo": {
     "elapsed": 12959,
     "status": "ok",
     "timestamp": 1748890517517,
     "user": {
      "displayName": "Samyak Shrestha (Caesar)",
      "userId": "13083503381857072620"
     },
     "user_tz": 300
    },
    "id": "yMy_EoqCXoVa"
   },
   "outputs": [],
   "source": [
    "import json\n",
    "import uuid\n",
    "import torch\n",
    "import numpy as np\n",
    "import pandas as pd\n",
    "from tqdm import tqdm\n",
    "from io import BytesIO\n",
    "\n",
    "from PIL import Image\n",
    "from pathlib import Path\n",
    "from datasets import load_dataset\n",
    "from torchvision import transforms\n",
    "from open_clip import create_model_from_pretrained, get_tokenizer\n",
    "\n",
    "from src.image_utils import save_parquet_images"
   ]
  },
  {
   "cell_type": "markdown",
   "metadata": {
    "id": "KyP2BKwjXlFm"
   },
   "source": [
    "## Step 1: Verifying GPU and Environment"
   ]
  },
  {
   "cell_type": "code",
   "execution_count": 4,
   "metadata": {
    "colab": {
     "base_uri": "https://localhost:8080/"
    },
    "executionInfo": {
     "elapsed": 39,
     "status": "ok",
     "timestamp": 1748849608661,
     "user": {
      "displayName": "Samyak Shrestha (Caesar)",
      "userId": "13083503381857072620"
     },
     "user_tz": 300
    },
    "id": "eweFqeRRXc0s",
    "outputId": "1db3e264-21c7-4a8d-88da-aa08fb7d7455"
   },
   "outputs": [
    {
     "name": "stdout",
     "output_type": "stream",
     "text": [
      "GPU detected: NVIDIA L4\n",
      "Running on device: cuda\n"
     ]
    }
   ],
   "source": [
    "if torch.cuda.is_available():\n",
    "    device_name = torch.cuda.get_device_name(0)\n",
    "    device = torch.device(\"cuda\")\n",
    "    print(f\"GPU detected: {device_name}\")\n",
    "else:\n",
    "    device = torch.device(\"cpu\")\n",
    "    print(\"GPU not detected. Falling back to CPU.\")\n",
    "\n",
    "print(f\"Running on device: {device}\")"
   ]
  },
  {
   "cell_type": "markdown",
   "metadata": {
    "id": "vLLW2-YiembV"
   },
   "source": [
    "## Step 2: Extract Impressions from Uploaded .parquet Files\n"
   ]
  },
  {
   "cell_type": "code",
   "execution_count": 5,
   "metadata": {
    "executionInfo": {
     "elapsed": 23,
     "status": "ok",
     "timestamp": 1748849608729,
     "user": {
      "displayName": "Samyak Shrestha (Caesar)",
      "userId": "13083503381857072620"
     },
     "user_tz": 300
    },
    "id": "hie4wu3OegFe"
   },
   "outputs": [],
   "source": [
    "# Define paths\n",
    "PROJECT_ROOT = Path(\"/content/drive/MyDrive/multimodal-xray-agent\")\n",
    "\n",
    "RAW_PARQUET_DIR = PROJECT_ROOT / \"data\" / \"iu_xray\" / \"raw\"\n",
    "IMAGE_DIR = PROJECT_ROOT / \"data\" / \"iu_xray\" / \"images\"\n",
    "OUTPUT_JSONL_PATH = PROJECT_ROOT / \"data\" / \"iu_xray\" / \"iu_impr.jsonl\"\n",
    "UUID_JSONL_PATH = PROJECT_ROOT / \"data\" / \"iu_xray\" / \"iu_uuids.jsonl\"\n",
    "EMBEDDING_SAVE_PATH = PROJECT_ROOT / \"data\" / \"iu_xray\" / \"iu_vecs.npy\"\n",
    "\n",
    "IMAGE_DIR.mkdir(parents=True, exist_ok=True)\n",
    "UUID_JSONL_PATH.parent.mkdir(parents=True, exist_ok=True)\n",
    "OUTPUT_JSONL_PATH.parent.mkdir(parents=True, exist_ok=True)\n",
    "EMBEDDING_SAVE_PATH.parent.mkdir(parents=True, exist_ok=True)"
   ]
  },
  {
   "cell_type": "code",
   "execution_count": 6,
   "metadata": {
    "executionInfo": {
     "elapsed": 11,
     "status": "ok",
     "timestamp": 1748849608741,
     "user": {
      "displayName": "Samyak Shrestha (Caesar)",
      "userId": "13083503381857072620"
     },
     "user_tz": 300
    },
    "id": "m5INggc_wh58"
   },
   "outputs": [],
   "source": [
    "# Load all train + test shards\n",
    "parquet_files = [\n",
    "    RAW_PARQUET_DIR / \"train-00000-of-00003.parquet\",\n",
    "    RAW_PARQUET_DIR / \"train-00001-of-00003.parquet\",\n",
    "    RAW_PARQUET_DIR / \"train-00002-of-00003.parquet\",\n",
    "    RAW_PARQUET_DIR / \"test-00000-of-00001.parquet\"\n",
    "]"
   ]
  },
  {
   "cell_type": "code",
   "execution_count": 7,
   "metadata": {
    "executionInfo": {
     "elapsed": 43669,
     "status": "ok",
     "timestamp": 1748849652411,
     "user": {
      "displayName": "Samyak Shrestha (Caesar)",
      "userId": "13083503381857072620"
     },
     "user_tz": 300
    },
    "id": "5zuctRMdeq73"
   },
   "outputs": [],
   "source": [
    "df_list = [pd.read_parquet(str(p)) for p in parquet_files]"
   ]
  },
  {
   "cell_type": "code",
   "execution_count": 8,
   "metadata": {
    "colab": {
     "base_uri": "https://localhost:8080/"
    },
    "executionInfo": {
     "elapsed": 8,
     "status": "ok",
     "timestamp": 1748849652414,
     "user": {
      "displayName": "Samyak Shrestha (Caesar)",
      "userId": "13083503381857072620"
     },
     "user_tz": 300
    },
    "id": "DXD1x9rKezWO",
    "outputId": "797a8e4d-bb40-4b0c-95dd-83385142a7d0"
   },
   "outputs": [
    {
     "name": "stdout",
     "output_type": "stream",
     "text": [
      "Loaded 7,430 total samples from train + test.\n"
     ]
    }
   ],
   "source": [
    "df = pd.concat(df_list, ignore_index=True)\n",
    "\n",
    "print(f\"Loaded {len(df):,} total samples from train + test.\")"
   ]
  },
  {
   "cell_type": "markdown",
   "metadata": {
    "id": "FBAjka3B4Fh7"
   },
   "source": [
    "This code block iterates through the rows of the DataFrame, extracts the report text, cleans it, and if the cleaned text is not empty, it creates a dictionary with a unique identifier and the impression text, adding it to the `records` list."
   ]
  },
  {
   "cell_type": "code",
   "execution_count": 9,
   "metadata": {
    "executionInfo": {
     "elapsed": 255,
     "status": "ok",
     "timestamp": 1748849730263,
     "user": {
      "displayName": "Samyak Shrestha (Caesar)",
      "userId": "13083503381857072620"
     },
     "user_tz": 300
    },
    "id": "D7xSOsvYxoDX"
   },
   "outputs": [],
   "source": [
    "# Extract and format impression records\n",
    "records = []\n",
    "\n",
    "for i, row in df.iterrows():\n",
    "    impression = row[\"report\"].strip()\n",
    "    if impression:\n",
    "        records.append({\n",
    "            \"uuid\": f\"iu_{i:04d}\",\n",
    "            \"impression\": impression\n",
    "        })"
   ]
  },
  {
   "cell_type": "code",
   "execution_count": 10,
   "metadata": {
    "colab": {
     "base_uri": "https://localhost:8080/"
    },
    "executionInfo": {
     "elapsed": 6,
     "status": "ok",
     "timestamp": 1748849730467,
     "user": {
      "displayName": "Samyak Shrestha (Caesar)",
      "userId": "13083503381857072620"
     },
     "user_tz": 300
    },
    "id": "5g9w9cRQ1qVy",
    "outputId": "8cda659d-7753-404e-951d-ee8415c33655"
   },
   "outputs": [
    {
     "name": "stdout",
     "output_type": "stream",
     "text": [
      "Saved 7,430 impressions to /content/drive/MyDrive/multimodal-xray-agent/data/iu_xray/iu_impr.jsonl\n"
     ]
    }
   ],
   "source": [
    "# Write to JSONL\n",
    "with open(OUTPUT_JSONL_PATH, \"w\") as f:\n",
    "    for r in records:\n",
    "        f.write(json.dumps(r) + \"\\n\")\n",
    "\n",
    "print(f\"Saved {len(records):,} impressions to {OUTPUT_JSONL_PATH}\")"
   ]
  },
  {
   "cell_type": "markdown",
   "metadata": {
    "id": "dSXW8Jau7wpN"
   },
   "source": [
    "## Step 3: Extracting and Saving Images"
   ]
  },
  {
   "cell_type": "code",
   "execution_count": 20,
   "metadata": {
    "colab": {
     "base_uri": "https://localhost:8080/"
    },
    "executionInfo": {
     "elapsed": 135807,
     "status": "ok",
     "timestamp": 1748850097488,
     "user": {
      "displayName": "Samyak Shrestha (Caesar)",
      "userId": "13083503381857072620"
     },
     "user_tz": 300
    },
    "id": "cHhv59VEEbqc",
    "outputId": "3d1bd25c-3218-4ca8-8f80-f3d182b61b61"
   },
   "outputs": [
    {
     "name": "stderr",
     "output_type": "stream",
     "text": [
      "Saving IU images: 100%|██████████| 7430/7430 [02:15<00:00, 54.72it/s]"
     ]
    },
    {
     "name": "stdout",
     "output_type": "stream",
     "text": [
      "Saved 7,430 images to: /content/drive/MyDrive/multimodal-xray-agent/data/iu_xray/images\n"
     ]
    },
    {
     "name": "stderr",
     "output_type": "stream",
     "text": [
      "\n"
     ]
    }
   ],
   "source": [
    "saved_filenames = save_parquet_images(df, IMAGE_DIR)"
   ]
  },
  {
   "cell_type": "markdown",
   "metadata": {
    "id": "WU2ga-TsJI4C"
   },
   "source": [
    "## Step 3: Generate iu_uuids.jsonl"
   ]
  },
  {
   "cell_type": "code",
   "execution_count": 22,
   "metadata": {
    "executionInfo": {
     "elapsed": 62248,
     "status": "ok",
     "timestamp": 1748850281116,
     "user": {
      "displayName": "Samyak Shrestha (Caesar)",
      "userId": "13083503381857072620"
     },
     "user_tz": 300
    },
    "id": "oo-q8MRBJMCu"
   },
   "outputs": [],
   "source": [
    "# Enumerate valid PNGs in sorted order\n",
    "image_files = sorted(IMAGE_DIR.glob(\"*.png\"))\n",
    "records = []\n",
    "\n",
    "for i, img_path in enumerate(image_files):\n",
    "    try:\n",
    "        # Optional: verify it's a readable image\n",
    "        Image.open(img_path).verify()\n",
    "\n",
    "        record = {\n",
    "            \"uuid\": f\"iu_{i:04d}\",\n",
    "            \"path\": str(img_path)\n",
    "        }\n",
    "        records.append(record)\n",
    "\n",
    "    except Exception as e:\n",
    "        print(f\"Skipping unreadable image: {img_path.name} ({e})\")"
   ]
  },
  {
   "cell_type": "code",
   "execution_count": 23,
   "metadata": {
    "colab": {
     "base_uri": "https://localhost:8080/"
    },
    "executionInfo": {
     "elapsed": 203,
     "status": "ok",
     "timestamp": 1748850285913,
     "user": {
      "displayName": "Samyak Shrestha (Caesar)",
      "userId": "13083503381857072620"
     },
     "user_tz": 300
    },
    "id": "K6NCmHHTJcuV",
    "outputId": "fd9492ce-0120-4620-9783-46239078cdc5"
   },
   "outputs": [
    {
     "name": "stdout",
     "output_type": "stream",
     "text": [
      "Saved 7,430 UUID entries to /content/drive/MyDrive/multimodal-xray-agent/data/iu_xray/iu_uuids.jsonl\n"
     ]
    }
   ],
   "source": [
    "# Write to JSONL\n",
    "with open(UUID_JSONL_PATH, \"w\") as f:\n",
    "    for r in records:\n",
    "        f.write(json.dumps(r) + \"\\n\")\n",
    "\n",
    "print(f\"Saved {len(records):,} UUID entries to {UUID_JSONL_PATH}\")"
   ]
  },
  {
   "cell_type": "markdown",
   "metadata": {
    "id": "SLwFNfQwWZpH"
   },
   "source": [
    "## Step 4: Generate `iu_vecs.npy` using BiomedCLIP Image Encoder\n",
    "\n",
    "In this step, we extract high-dimensional semantic embeddings for each IU-Xray image using the **BiomedCLIP** vision transformer. These embeddings will later serve as the backbone of our **caption bank retrieval** pipeline.\n",
    "\n",
    "---\n",
    "\n",
    "#### Embedding Overview\n",
    "\n",
    "- **Model**: `microsoft/BiomedCLIP-PubMedBERT_256-vit_base_patch16_224`\n",
    "- **Embedding Size**: 512 dimensions per image\n",
    "- **Preprocessing**: Applied `open_clip`’s model-specific transform (resize, normalize, etc.)\n",
    "- **Batching**: 32 images per batch using `torch.no_grad()` for inference\n",
    "- **Hardware**: Optimized for GPU (`cuda`), with fallback to CPU\n",
    "\n",
    "---\n",
    "\n",
    "#### Code Summary\n",
    "\n",
    "1. **Paths**:\n",
    "   - `iu_uuids.jsonl`: Input file with UUID and image path.\n",
    "   - `iu_vecs.npy`: Output file storing all image embeddings.\n",
    "\n",
    "2. **Model Loading**:\n",
    "   - Used `create_model_from_pretrained()` to load BiomedCLIP.\n",
    "   - Moved to device and set to `eval()` mode.\n",
    "\n",
    "3. **Batch Inference Loop**:\n",
    "   - Iterated over all images from `iu_uuids.jsonl`.\n",
    "   - Opened image → applied BiomedCLIP preprocessing → added to batch.\n",
    "   - Every 32 images:\n",
    "     - Ran `model.encode_image()` to get 512-d embeddings.\n",
    "     - Stored outputs on CPU to conserve GPU memory.\n",
    "   - Handled final leftover batch.\n",
    "\n",
    "4. **Saving**:\n",
    "   - Concatenated all batches and saved to:\n",
    "     - `data/iu_xray/iu_vecs.npy`\n",
    "   - Final shape: `(7430, 512)`"
   ]
  },
  {
   "cell_type": "code",
   "execution_count": null,
   "metadata": {
    "id": "lU_tXDDZZABB"
   },
   "outputs": [],
   "source": [
    "# Load BiomedCLIP model and processor\n",
    "hf_repo = \"hf-hub:microsoft/BiomedCLIP-PubMedBERT_256-vit_base_patch16_224\"\n",
    "\n",
    "model, preprocess = create_model_from_pretrained(hf_repo)"
   ]
  },
  {
   "cell_type": "code",
   "execution_count": 28,
   "metadata": {
    "executionInfo": {
     "elapsed": 336,
     "status": "ok",
     "timestamp": 1748850367693,
     "user": {
      "displayName": "Samyak Shrestha (Caesar)",
      "userId": "13083503381857072620"
     },
     "user_tz": 300
    },
    "id": "atlF9XofcDuE"
   },
   "outputs": [],
   "source": [
    "model = model.to(device).eval()"
   ]
  },
  {
   "cell_type": "code",
   "execution_count": 30,
   "metadata": {
    "executionInfo": {
     "elapsed": 40,
     "status": "ok",
     "timestamp": 1748850752674,
     "user": {
      "displayName": "Samyak Shrestha (Caesar)",
      "userId": "13083503381857072620"
     },
     "user_tz": 300
    },
    "id": "auyJuFxVcSn4"
   },
   "outputs": [],
   "source": [
    "# Load UUIDs\n",
    "with open(UUID_JSONL_PATH, \"r\") as f:\n",
    "    uuid_records = [json.loads(line) for line in f]"
   ]
  },
  {
   "cell_type": "code",
   "execution_count": null,
   "metadata": {
    "colab": {
     "base_uri": "https://localhost:8080/"
    },
    "executionInfo": {
     "elapsed": 59189,
     "status": "ok",
     "timestamp": 1748850813013,
     "user": {
      "displayName": "Samyak Shrestha (Caesar)",
      "userId": "13083503381857072620"
     },
     "user_tz": 300
    },
    "id": "oi93YMFacllp",
    "outputId": "cbb5886f-3a55-45cd-e4bc-5f32373c5b12"
   },
   "outputs": [
    {
     "name": "stderr",
     "output_type": "stream",
     "text": [
      "Embedding IU images: 100%|██████████| 7430/7430 [00:59<00:00, 125.63it/s]\n"
     ]
    }
   ],
   "source": [
    "# Batch-wise inference\n",
    "all_embeddings = []\n",
    "batch_size = 32\n",
    "batch_images = []\n",
    "\n",
    "# Iterate over all image records for embedding\n",
    "for record in tqdm(uuid_records, desc=\"Embedding IU images\"):\n",
    "    img_path = Path(record[\"path\"])\n",
    "    try:\n",
    "        # Open image and convert to RGB\n",
    "        image = Image.open(img_path).convert(\"RGB\")\n",
    "        # Apply BiomedCLIP preprocessing\n",
    "        tensor_img = preprocess(image)  # open_clip preprocessing\n",
    "        batch_images.append(tensor_img)\n",
    "\n",
    "        # If batch is full, run inference\n",
    "        if len(batch_images) == batch_size:\n",
    "            batch_tensor = torch.stack(batch_images).to(device)\n",
    "            with torch.no_grad():\n",
    "                features = model.encode_image(batch_tensor)  # Get embeddings\n",
    "            all_embeddings.append(features.cpu())  # Move to CPU to save memory\n",
    "            batch_images = []\n",
    "\n",
    "    except Exception as e:\n",
    "        print(f\"Error with image {record['uuid']}: {e}\")\n",
    "\n",
    "# Handle any leftover images in the last batch\n",
    "if batch_images:\n",
    "    batch_tensor = torch.stack(batch_images).to(device)\n",
    "    with torch.no_grad():\n",
    "        features = model.encode_image(batch_tensor)\n",
    "    all_embeddings.append(features.cpu())"
   ]
  },
  {
   "cell_type": "code",
   "execution_count": 32,
   "metadata": {
    "colab": {
     "base_uri": "https://localhost:8080/"
    },
    "executionInfo": {
     "elapsed": 38,
     "status": "ok",
     "timestamp": 1748850969315,
     "user": {
      "displayName": "Samyak Shrestha (Caesar)",
      "userId": "13083503381857072620"
     },
     "user_tz": 300
    },
    "id": "2GfBNNupdHa9",
    "outputId": "53eb8a66-8ba6-4bea-a961-0ae0a17924f6"
   },
   "outputs": [
    {
     "name": "stdout",
     "output_type": "stream",
     "text": [
      "Saved 7430 BiomedCLIP embeddings to: /content/drive/MyDrive/multimodal-xray-agent/data/iu_xray/iu_vecs.npy\n"
     ]
    }
   ],
   "source": [
    "# Save\n",
    "all_vecs = torch.cat(all_embeddings, dim=0).numpy()\n",
    "np.save(EMBEDDING_SAVE_PATH, all_vecs)\n",
    "print(f\"Saved {all_vecs.shape[0]} BiomedCLIP embeddings to: {EMBEDDING_SAVE_PATH}\")"
   ]
  },
  {
   "cell_type": "markdown",
   "metadata": {
    "id": "EE0SdYHiqPaM"
   },
   "source": [
    "## Step 5: Sanity Check"
   ]
  },
  {
   "cell_type": "code",
   "execution_count": 33,
   "metadata": {
    "executionInfo": {
     "elapsed": 19,
     "status": "ok",
     "timestamp": 1748851361516,
     "user": {
      "displayName": "Samyak Shrestha (Caesar)",
      "userId": "13083503381857072620"
     },
     "user_tz": 300
    },
    "id": "WZIYVQuEpAm3"
   },
   "outputs": [],
   "source": [
    "vecs = np.load(PROJECT_ROOT / \"data/iu_xray/iu_vecs.npy\")"
   ]
  },
  {
   "cell_type": "code",
   "execution_count": 34,
   "metadata": {
    "executionInfo": {
     "elapsed": 42,
     "status": "ok",
     "timestamp": 1748851379407,
     "user": {
      "displayName": "Samyak Shrestha (Caesar)",
      "userId": "13083503381857072620"
     },
     "user_tz": 300
    },
    "id": "neKWORUrqgXP"
   },
   "outputs": [],
   "source": [
    "with open(PROJECT_ROOT / \"data/iu_xray/iu_uuids.jsonl\") as f:\n",
    "    uuid_records = [json.loads(l) for l in f]"
   ]
  },
  {
   "cell_type": "code",
   "execution_count": 35,
   "metadata": {
    "executionInfo": {
     "elapsed": 36,
     "status": "ok",
     "timestamp": 1748851386773,
     "user": {
      "displayName": "Samyak Shrestha (Caesar)",
      "userId": "13083503381857072620"
     },
     "user_tz": 300
    },
    "id": "QpFMj8uHqkuX"
   },
   "outputs": [],
   "source": [
    "with open(PROJECT_ROOT / \"data/iu_xray/iu_impr.jsonl\") as f:\n",
    "    impr_records = [json.loads(l) for l in f]"
   ]
  },
  {
   "cell_type": "code",
   "execution_count": 36,
   "metadata": {
    "colab": {
     "base_uri": "https://localhost:8080/"
    },
    "executionInfo": {
     "elapsed": 9,
     "status": "ok",
     "timestamp": 1748851404945,
     "user": {
      "displayName": "Samyak Shrestha (Caesar)",
      "userId": "13083503381857072620"
     },
     "user_tz": 300
    },
    "id": "66TsoBarqmhs",
    "outputId": "17354c94-57fa-4aa8-80a6-8108ffb0cd73"
   },
   "outputs": [
    {
     "name": "stdout",
     "output_type": "stream",
     "text": [
      "Vecs shape: (7430, 512)\n",
      "# UUIDs: 7430\n",
      "# Impressions: 7430\n"
     ]
    }
   ],
   "source": [
    "# Check sizes\n",
    "print(\"Vecs shape:\", vecs.shape)\n",
    "print(\"# UUIDs:\", len(uuid_records))\n",
    "print(\"# Impressions:\", len(impr_records))"
   ]
  },
  {
   "cell_type": "code",
   "execution_count": 37,
   "metadata": {
    "colab": {
     "base_uri": "https://localhost:8080/"
    },
    "executionInfo": {
     "elapsed": 14,
     "status": "ok",
     "timestamp": 1748851422579,
     "user": {
      "displayName": "Samyak Shrestha (Caesar)",
      "userId": "13083503381857072620"
     },
     "user_tz": 300
    },
    "id": "MfEELAqsqq-H",
    "outputId": "8c998791-0a67-414f-eebc-89b6ab5b54e6"
   },
   "outputs": [
    {
     "name": "stdout",
     "output_type": "stream",
     "text": [
      "--- UUID: iu_0000\n",
      "Impression: FINDINGS: Lungs are clear. No pleural effusions or pneumothoraces. Heart and med...\n",
      "Vec norm: 83.8474\n",
      "\n",
      "--- UUID: iu_0001\n",
      "Impression: FINDINGS: Hyperinflated lungs with mildly flattened posterior diaphragm. No foca...\n",
      "Vec norm: 87.9998\n",
      "\n",
      "--- UUID: iu_0002\n",
      "Impression: FINDINGS: Borderline heart size. The lungs are hyperexpanded and hyperlucent com...\n",
      "Vec norm: 78.7909\n",
      "\n"
     ]
    }
   ],
   "source": [
    "# Sample entries\n",
    "for i in range(3):\n",
    "    print(f\"--- UUID: {uuid_records[i]['uuid']}\")\n",
    "    print(f\"Impression: {impr_records[i]['impression'][:80]}...\")\n",
    "    print(f\"Vec norm: {np.linalg.norm(vecs[i]):.4f}\\n\")"
   ]
  }
 ],
 "metadata": {
  "colab": {
   "authorship_tag": "ABX9TyM8Em0RACre1it7BRBIIRfR",
   "machine_shape": "hm",
   "provenance": []
  },
  "kernelspec": {
   "display_name": "Python 3",
   "name": "python3"
  },
  "language_info": {
   "name": "python"
  }
 },
 "nbformat": 4,
 "nbformat_minor": 0
}
