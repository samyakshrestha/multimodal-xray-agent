{
 "cells": [
  {
   "cell_type": "markdown",
   "metadata": {
    "id": "X5HfmOFBQBnk"
   },
   "source": [
    "# Zero-Shot Evaluation of Llama-3.2-3B-Instruct\n",
    "\n",
    "In this notebook, we perform zero-shot evaluation on the base Llama-3.2-3B-Instruct model using carefully curated prompts. Depending on the quality of the output, we are then going to decide whether we should fine-tune the model or not.\n",
    "\n",
    "Here is the link to the model on Hugging Face: https://huggingface.co/meta-llama/Llama-3.1-8B-Instruct"
   ]
  },
  {
   "cell_type": "markdown",
   "metadata": {
    "id": "twCCur8xZafh"
   },
   "source": [
    "## Step 0: Mounting Google Drive and Importing Libraries\n"
   ]
  },
  {
   "cell_type": "code",
   "execution_count": null,
   "metadata": {
    "id": "SBaTB23gZAf0"
   },
   "outputs": [],
   "source": [
    "from google.colab import drive\n",
    "drive.mount('/content/drive')\n",
    "%cd /content/drive/MyDrive/multimodal-xray-agent\n",
    "!ls"
   ]
  },
  {
   "cell_type": "code",
   "execution_count": 2,
   "metadata": {
    "executionInfo": {
     "elapsed": 20074,
     "status": "ok",
     "timestamp": 1749694711990,
     "user": {
      "displayName": "Samyak Shrestha (Caesar)",
      "userId": "13083503381857072620"
     },
     "user_tz": 300
    },
    "id": "R0I5u2KEneee"
   },
   "outputs": [],
   "source": [
    "import torch\n",
    "from transformers import AutoTokenizer, AutoModelForCausalLM, pipeline\n",
    "from huggingface_hub import login"
   ]
  },
  {
   "cell_type": "code",
   "execution_count": null,
   "metadata": {
    "colab": {
     "base_uri": "https://localhost:8080/",
     "height": 17,
     "referenced_widgets": [
      "bdb297eab0164e67b8e9cca8541d01b6",
      "b3abf1193df547c4963ee2ad216d412f",
      "f0b9823042bb449fb8860040425908e7",
      "3c1f7a3639bc491090ded904943172ff",
      "d23bde33a3d54e308d96864cbb052eba",
      "ac063de0dbb74c2d9baa2cc30806f784",
      "c5286462cba94d5a85bcc89c00df3af2",
      "7d36e314ebca428ea540222940ad2f10",
      "71e39840371b4453a8c56c0dba73585d",
      "e554b65eda544898b031b6953af168ad",
      "5f6e01c77bbe4ea6bc3c4c118c95e29a",
      "83e230017b934139af82e062aa3792f5",
      "8c34e36d47a44919bd66143c547e3a3a",
      "2cec2c0536774e0daded0125f807b964",
      "e9bf04e37c5844fba477d323d85dc037",
      "ae421a5dc5554495968240e714644684",
      "6900e10d85d9450aa3cc7b492f7c0ed8",
      "58c3dc0acfda4ec3aac73b806ca7fd50",
      "76c211b3f4e1444288c314b91b78063e",
      "27d6d68eac2543f6b6f4b4e5168f09ed"
     ]
    },
    "executionInfo": {
     "elapsed": 203,
     "status": "ok",
     "timestamp": 1749694713430,
     "user": {
      "displayName": "Samyak Shrestha (Caesar)",
      "userId": "13083503381857072620"
     },
     "user_tz": 300
    },
    "id": "-ZqT1LTgocuz",
    "outputId": "388bec4f-9617-4fbc-d44f-3b966fc52282"
   },
   "outputs": [],
   "source": [
    "login()"
   ]
  },
  {
   "cell_type": "markdown",
   "metadata": {
    "id": "9GTUsD2DZkm8"
   },
   "source": [
    "## Step 1: Verifying GPU and Environment"
   ]
  },
  {
   "cell_type": "code",
   "execution_count": 4,
   "metadata": {
    "colab": {
     "base_uri": "https://localhost:8080/"
    },
    "executionInfo": {
     "elapsed": 7,
     "status": "ok",
     "timestamp": 1749694733882,
     "user": {
      "displayName": "Samyak Shrestha (Caesar)",
      "userId": "13083503381857072620"
     },
     "user_tz": 300
    },
    "id": "GblRg_L4Zbh_",
    "outputId": "0783ce7c-b735-4179-f0c3-2f133142ed42"
   },
   "outputs": [
    {
     "name": "stdout",
     "output_type": "stream",
     "text": [
      "GPU detected: Tesla T4\n",
      "Running on device: cuda\n"
     ]
    }
   ],
   "source": [
    "if torch.cuda.is_available():\n",
    "    device_name = torch.cuda.get_device_name(0)\n",
    "    device = torch.device(\"cuda\")\n",
    "    print(f\"GPU detected: {device_name}\")\n",
    "else:\n",
    "    device = torch.device(\"cpu\")\n",
    "    print(\"GPU not detected. Falling back to CPU.\")\n",
    "\n",
    "print(f\"Running on device: {device}\")"
   ]
  },
  {
   "cell_type": "markdown",
   "metadata": {
    "id": "JpWeC1Kynrdc"
   },
   "source": [
    "## Step 2: Loading the Model and Tokenizer"
   ]
  },
  {
   "cell_type": "code",
   "execution_count": 5,
   "metadata": {
    "executionInfo": {
     "elapsed": 1,
     "status": "ok",
     "timestamp": 1749694735238,
     "user": {
      "displayName": "Samyak Shrestha (Caesar)",
      "userId": "13083503381857072620"
     },
     "user_tz": 300
    },
    "id": "BUsc0RKjZhAM"
   },
   "outputs": [],
   "source": [
    "model_id = \"meta-llama/Llama-3.2-3B-Instruct\""
   ]
  },
  {
   "cell_type": "code",
   "execution_count": null,
   "metadata": {
    "id": "Bftd4AERnxf3"
   },
   "outputs": [],
   "source": [
    "tokenizer = AutoTokenizer.from_pretrained(model_id, padding_side=\"left\")"
   ]
  },
  {
   "cell_type": "code",
   "execution_count": 23,
   "metadata": {
    "executionInfo": {
     "elapsed": 7,
     "status": "ok",
     "timestamp": 1749697129638,
     "user": {
      "displayName": "Samyak Shrestha (Caesar)",
      "userId": "13083503381857072620"
     },
     "user_tz": 300
    },
    "id": "2jI7uyRzDBCU"
   },
   "outputs": [],
   "source": [
    "tokenizer.pad_token = tokenizer.eos_token"
   ]
  },
  {
   "cell_type": "code",
   "execution_count": null,
   "metadata": {
    "id": "wj8q5gtwoU5F"
   },
   "outputs": [],
   "source": [
    "model = AutoModelForCausalLM.from_pretrained(\n",
    "    model_id,\n",
    "    torch_dtype=torch.bfloat16,\n",
    "    device_map=\"auto\"\n",
    ")"
   ]
  },
  {
   "cell_type": "code",
   "execution_count": null,
   "metadata": {
    "colab": {
     "base_uri": "https://localhost:8080/"
    },
    "executionInfo": {
     "elapsed": 4,
     "status": "ok",
     "timestamp": 1749697130921,
     "user": {
      "displayName": "Samyak Shrestha (Caesar)",
      "userId": "13083503381857072620"
     },
     "user_tz": 300
    },
    "id": "ewQWv8Fp72eW",
    "outputId": "8f09fcce-b441-46f0-e899-4674c5215997"
   },
   "outputs": [],
   "source": [
    "pipe = pipeline(\n",
    "    \"text-generation\",\n",
    "    model=model,\n",
    "    tokenizer=tokenizer\n",
    ")"
   ]
  },
  {
   "cell_type": "markdown",
   "metadata": {
    "id": "Ii-IsFvKKqOm"
   },
   "source": [
    "## Step 3: Testing Model Responses with Different Prompts"
   ]
  },
  {
   "cell_type": "code",
   "execution_count": 28,
   "metadata": {
    "colab": {
     "base_uri": "https://localhost:8080/"
    },
    "executionInfo": {
     "elapsed": 2676,
     "status": "ok",
     "timestamp": 1749697173870,
     "user": {
      "displayName": "Samyak Shrestha (Caesar)",
      "userId": "13083503381857072620"
     },
     "user_tz": 300
    },
    "id": "aG3QZNkD-9QZ",
    "outputId": "5a03405b-fa47-46af-eb36-1cd9c78fc247"
   },
   "outputs": [
    {
     "name": "stdout",
     "output_type": "stream",
     "text": [
      "The key thoracic finding on this patient's imaging is hyperexpansion of the lungs, indicative of chronic obstructive pulmonary disease (COPD). There is no evidence of an acute pulmonary process.\n"
     ]
    }
   ],
   "source": [
    "# Define your custom prompt\n",
    "prompt = \"\"\"### Question:\n",
    "Summarize the key thoracic findings.\n",
    "\n",
    "### Context:\n",
    "Hyperexpanded lungs, suggesting chronic obstructive pulmonary disease. No acute pulmonary process.\n",
    "\n",
    "### Instruction:\n",
    "Use the context above to directly and professionally answer the user’s question as a radiology report summary. Do not go beyond what is provided in the context.\n",
    "\n",
    "### Answer:\"\"\"\n",
    "\n",
    "# Generate output\n",
    "outputs = pipe(\n",
    "    prompt,\n",
    "    max_new_tokens=150,\n",
    "    temperature=0.7,\n",
    "    top_p=0.9,\n",
    "    repetition_penalty=1.1,\n",
    "    do_sample=True\n",
    ")\n",
    "\n",
    "# Show result\n",
    "raw_output = outputs[0][\"generated_text\"]\n",
    "answer_only = raw_output.split(\"### Answer:\")[-1].strip()\n",
    "print(answer_only)"
   ]
  },
  {
   "cell_type": "code",
   "execution_count": 27,
   "metadata": {
    "colab": {
     "base_uri": "https://localhost:8080/"
    },
    "executionInfo": {
     "elapsed": 6619,
     "status": "ok",
     "timestamp": 1749697160015,
     "user": {
      "displayName": "Samyak Shrestha (Caesar)",
      "userId": "13083503381857072620"
     },
     "user_tz": 300
    },
    "id": "6IH993sS_ILZ",
    "outputId": "ecb92e15-3d98-4314-cada-5b5705d4916b"
   },
   "outputs": [
    {
     "name": "stdout",
     "output_type": "stream",
     "text": [
      "**Summary of Thoracic Findings:**\n",
      "\n",
      "The chest radiograph reveals hyperexpanded lungs with no evidence of acute pulmonary processes. This suggests a chronic condition affecting lung expansion, consistent with chronic obstructive pulmonary disease (COPD).\n",
      "\n",
      "**Key Diagnostic Terms:**\n",
      "\n",
      "*   **Hyperexpanded lungs**: A condition where the lungs are over-inflated, resulting in increased lung volumes.\n",
      "*   **Chronic obstructive pulmonary disease (COPD)**: A progressive lung disease characterized by airflow limitation, often caused by smoking or environmental factors.\n",
      "\n",
      "These findings indicate that the patient's respiratory system has been affected by a long-standing condition, leading to persistent changes in lung structure and function.\n"
     ]
    }
   ],
   "source": [
    "# Define your custom prompt\n",
    "prompt = \"\"\"### Question:\n",
    "Summarize the key thoracic findings.\n",
    "\n",
    "### Context:\n",
    "Hyperexpanded lungs, suggesting chronic obstructive pulmonary disease. No acute pulmonary process.\n",
    "\n",
    "### Instruction:\n",
    "Use the context above to directly and professionally answer the user’s question as a radiology report summary. Do not go beyond what is provided in the context. Also, provide an explanation of the key diagnostic terms used.\n",
    "\n",
    "### Answer:\"\"\"\n",
    "\n",
    "# Generate output\n",
    "outputs = pipe(\n",
    "    prompt,\n",
    "    max_new_tokens=150,\n",
    "    temperature=0.3,\n",
    "    top_p=0.9,\n",
    "    repetition_penalty=1.1,\n",
    "    do_sample=True\n",
    ")\n",
    "\n",
    "# Show result\n",
    "raw_output = outputs[0][\"generated_text\"]\n",
    "answer_only = raw_output.split(\"### Answer:\")[-1].strip()\n",
    "print(answer_only)"
   ]
  },
  {
   "cell_type": "code",
   "execution_count": 26,
   "metadata": {
    "colab": {
     "base_uri": "https://localhost:8080/"
    },
    "executionInfo": {
     "elapsed": 5065,
     "status": "ok",
     "timestamp": 1749697147831,
     "user": {
      "displayName": "Samyak Shrestha (Caesar)",
      "userId": "13083503381857072620"
     },
     "user_tz": 300
    },
    "id": "iQ-usaKcAKmZ",
    "outputId": "a158a092-09f6-4ca0-c378-c0d1af14cc95"
   },
   "outputs": [
    {
     "name": "stdout",
     "output_type": "stream",
     "text": [
      "The key thoracic findings are hyperexpanded lungs with no evidence of an acute pulmonary process. Hyperexpansion refers to increased lung volume that can be seen on imaging due to air trapping or other pathologies, such as COPD (Chronic Obstructive Pulmonary Disease). \n",
      "\n",
      "In this case, it suggests chronic obstruction leading to inadequate expiration and retention of air in the lungs, causing them to expand more than normal. This finding supports the diagnosis of COPD without any evidence of acute infection or inflammation.\n"
     ]
    }
   ],
   "source": [
    "# Define your custom prompt\n",
    "prompt = \"\"\"### Question:\n",
    "Summarize the key thoracic findings.\n",
    "\n",
    "### Context:\n",
    "Hyperexpanded lungs, suggesting chronic obstructive pulmonary disease. No acute pulmonary process.\n",
    "\n",
    "### Instruction:\n",
    "Use the context above to directly and professionally answer the user’s question as a radiology report summary. Do not go beyond what is provided in the context. Also, provide a terse explanation of the key diagnostic terms used.\n",
    "\n",
    "### Answer:\"\"\"\n",
    "\n",
    "# Generate output\n",
    "outputs = pipe(\n",
    "    prompt,\n",
    "    max_new_tokens=150,\n",
    "    temperature=0.7,\n",
    "    top_p=0.9,\n",
    "    repetition_penalty=1.1,\n",
    "    do_sample=True\n",
    ")\n",
    "\n",
    "# Show result\n",
    "raw_output = outputs[0][\"generated_text\"]\n",
    "answer_only = raw_output.split(\"### Answer:\")[-1].strip()\n",
    "print(answer_only)"
   ]
  },
  {
   "cell_type": "code",
   "execution_count": 25,
   "metadata": {
    "colab": {
     "base_uri": "https://localhost:8080/"
    },
    "executionInfo": {
     "elapsed": 1812,
     "status": "ok",
     "timestamp": 1749697135604,
     "user": {
      "displayName": "Samyak Shrestha (Caesar)",
      "userId": "13083503381857072620"
     },
     "user_tz": 300
    },
    "id": "C1davwhbA0Gj",
    "outputId": "ba5e8ff9-1c3a-4e76-adb6-3295fcb9268a"
   },
   "outputs": [
    {
     "name": "stdout",
     "output_type": "stream",
     "text": [
      "Key thoracic findings include hyperexpanded lungs, indicating chronic obstructive pulmonary disease (COPD). No acute pulmonary processes are evident.\n"
     ]
    }
   ],
   "source": [
    "# Define your custom prompt\n",
    "prompt = \"\"\"### Question:\n",
    "Summarize the key thoracic findings.\n",
    "\n",
    "### Context:\n",
    "Hyperexpanded lungs, suggesting chronic obstructive pulmonary disease. No acute pulmonary process.\n",
    "\n",
    "### Instruction:\n",
    "Use the context above to directly and professionally answer the user’s question as a radiology report summary. Do not go beyond what is provided in the context. Do not add inferred pathophysiology. Only use diagnostic terms explicitly present in the context. Provide a terse definition of the terms if they appear in the context.\n",
    "\n",
    "### Answer:\"\"\"\n",
    "\n",
    "# Generate output\n",
    "outputs = pipe(\n",
    "    prompt,\n",
    "    max_new_tokens=150,\n",
    "    temperature=0.3,\n",
    "    top_p=0.9,\n",
    "    repetition_penalty=1.1,\n",
    "    do_sample=True\n",
    ")\n",
    "\n",
    "# Show result\n",
    "raw_output = outputs[0][\"generated_text\"]\n",
    "answer_only = raw_output.split(\"### Answer:\")[-1].strip()\n",
    "print(answer_only)"
   ]
  },
  {
   "cell_type": "code",
   "execution_count": 29,
   "metadata": {
    "colab": {
     "base_uri": "https://localhost:8080/"
    },
    "executionInfo": {
     "elapsed": 8870,
     "status": "ok",
     "timestamp": 1749697408439,
     "user": {
      "displayName": "Samyak Shrestha (Caesar)",
      "userId": "13083503381857072620"
     },
     "user_tz": 300
    },
    "id": "nBC_bRCbCUua",
    "outputId": "d43b0ec1-2f8d-44d9-cf89-e29396371ad6"
   },
   "outputs": [
    {
     "name": "stdout",
     "output_type": "stream",
     "text": [
      "The radiology impression is a right lower lobe opacity with air bronchograms, mild cardiomegaly, no pleural effusion, and no pneumothorax. \n",
      "\n",
      "**Definitions:**\n",
      "\n",
      "- **Right lower lobe opacity**: A radiographic finding indicating abnormality within the lung tissue.\n",
      "- **Air bronchograms**: A sign seen on chest X-rays where air-filled bronchi are visible through opacified alveoli.\n",
      "- **Mild cardiomegaly**: Enlargement of the heart that is less than 16mm in diameter at its greatest dimension.\n",
      "- **Pleural effusion**: The accumulation of fluid between the layers of the pleura outside the lungs.\n",
      "- **Pneumothorax\n"
     ]
    }
   ],
   "source": [
    "# Define your custom prompt\n",
    "prompt = \"\"\"### Question:\n",
    "What is the radiology impression?\n",
    "\n",
    "### Context:\n",
    "There is a right lower lobe opacity with air bronchograms. Mild cardiomegaly is present. No pleural effusion or pneumothorax.\n",
    "\n",
    "### Instruction:\n",
    "Use the context above to directly and professionally answer the user’s question as a radiology report summary. Do not go beyond what is provided in the context. Do not add inferred pathophysiology. Only use diagnostic terms explicitly present in the context. Provide a terse definition of the terms if they appear in the context.\n",
    "\n",
    "### Answer:\"\"\"\n",
    "\n",
    "# Generate output\n",
    "outputs = pipe(\n",
    "    prompt,\n",
    "    max_new_tokens=150,\n",
    "    temperature=0.3,\n",
    "    top_p=0.9,\n",
    "    repetition_penalty=1.1,\n",
    "    do_sample=True\n",
    ")\n",
    "\n",
    "# Show result\n",
    "raw_output = outputs[0][\"generated_text\"]\n",
    "answer_only = raw_output.split(\"### Answer:\")[-1].strip()\n",
    "print(answer_only)"
   ]
  },
  {
   "cell_type": "markdown",
   "metadata": {
    "id": "9ZzFybY-GbyB"
   },
   "source": [
    "Comment: A 16 mm heart would be smaller than a toddler’s fist. This looks like a hallucinated or misremembered threshold."
   ]
  },
  {
   "cell_type": "code",
   "execution_count": 30,
   "metadata": {
    "colab": {
     "base_uri": "https://localhost:8080/"
    },
    "executionInfo": {
     "elapsed": 6120,
     "status": "ok",
     "timestamp": 1749697692324,
     "user": {
      "displayName": "Samyak Shrestha (Caesar)",
      "userId": "13083503381857072620"
     },
     "user_tz": 300
    },
    "id": "yQQhYtZaF4oB",
    "outputId": "c5740273-c975-45bf-af82-793167f31335"
   },
   "outputs": [
    {
     "name": "stdout",
     "output_type": "stream",
     "text": [
      "**Thoracic Findings:** Faint left perihilar haziness.\n",
      "**Significance:** Uncertain, possibly early infiltrate or artifact; no other abnormalities present. **Definitions:** Perihilar refers to an area surrounding the hilum (the region where the bronchi, blood vessels, and nerves enter the lung). Infiltrate refers to abnormal tissue growth within the lung parenchyma. Artifact refers to an image distortion caused by external factors such as patient movement during imaging.\n"
     ]
    }
   ],
   "source": [
    "# Define your custom prompt\n",
    "prompt = \"\"\"### Question:\n",
    "What are the thoracic findings and their significance?\n",
    "\n",
    "### Context:\n",
    "There is a faint left perihilar haziness that may represent early infiltrate or artifact. Cardiac silhouette and mediastinum are within normal limits. No pleural effusion or pneumothorax is seen.\n",
    "\n",
    "### Instruction:\n",
    "Using only the information provided, summarize the thoracic findings in a concise radiology report style. Do not speculate beyond the context. If any finding is uncertain or equivocal, clearly indicate that. Provide terse definitions of any diagnostic terms used.\n",
    "\n",
    "### Answer:\"\"\"\n",
    "\n",
    "# Generate output\n",
    "outputs = pipe(\n",
    "    prompt,\n",
    "    max_new_tokens=150,\n",
    "    temperature=0.3,\n",
    "    top_p=0.9,\n",
    "    repetition_penalty=1.1,\n",
    "    do_sample=True\n",
    ")\n",
    "\n",
    "# Show result\n",
    "raw_output = outputs[0][\"generated_text\"]\n",
    "answer_only = raw_output.split(\"### Answer:\")[-1].strip()\n",
    "print(answer_only)"
   ]
  },
  {
   "cell_type": "code",
   "execution_count": 31,
   "metadata": {
    "colab": {
     "base_uri": "https://localhost:8080/"
    },
    "executionInfo": {
     "elapsed": 9377,
     "status": "ok",
     "timestamp": 1749698103843,
     "user": {
      "displayName": "Samyak Shrestha (Caesar)",
      "userId": "13083503381857072620"
     },
     "user_tz": 300
    },
    "id": "MUC0QI1EG-mk",
    "outputId": "478f1d31-a81a-445b-8566-e419504a1475"
   },
   "outputs": [
    {
     "name": "stdout",
     "output_type": "stream",
     "text": [
      "#### Thoracic Findings\n",
      "- Bibasilar reticulonodular opacities\n",
      "- Mild blunting of the left costophrenic angle\n",
      "\n",
      "#### Definitions\n",
      "- **Bibasilar**: Refers to the lower parts of both lungs (the bases).\n",
      "- **Reticulonodular**: A pattern of lung tissue appearance characterized by a mixture of reticular (network-like) and nodular (small masses) densities.\n",
      "- **Costophrenic angle**: An angle formed between the ribs and the diaphragm.\n",
      "- **Effusion**: Accumulation of fluid in a body cavity, often seen as blunting of the costophrenic angle on a chest X-ray.\n"
     ]
    }
   ],
   "source": [
    "# Define your custom prompt\n",
    "prompt = \"\"\"### Question:\n",
    "Summarize the key thoracic findings.\n",
    "\n",
    "### Context:\n",
    "Chest radiograph shows bibasilar reticulonodular opacities, more pronounced on the right. Mild blunting of the left costophrenic angle suggests a small effusion. The cardiac silhouette is within normal limits. No pneumothorax or acute consolidation is noted. Trachea is midline. Bony thorax appears intact with no obvious rib fractures or lytic lesions.\n",
    "\n",
    "### Instruction:\n",
    "Use the context above to directly and professionally answer the user’s question as a radiology report summary. Do not go beyond what is provided in the context. Do not infer pathophysiology. Provide terse, accurate definitions of any diagnostic terms that appear in the context. Output must include the structured headings: **Thoracic Findings** and **Definitions**.\n",
    "\"\"\"\n",
    "\n",
    "# Generate output\n",
    "outputs = pipe(\n",
    "    prompt,\n",
    "    max_new_tokens=256,\n",
    "    temperature=0.3,\n",
    "    top_p=0.9,\n",
    "    repetition_penalty=1.1,\n",
    "    do_sample=True\n",
    ")\n",
    "\n",
    "# Show result\n",
    "raw_output = outputs[0][\"generated_text\"]\n",
    "answer_only = raw_output.split(\"### Answer:\")[-1].strip()\n",
    "print(answer_only)"
   ]
  },
  {
   "cell_type": "code",
   "execution_count": 32,
   "metadata": {
    "colab": {
     "base_uri": "https://localhost:8080/"
    },
    "executionInfo": {
     "elapsed": 12508,
     "status": "ok",
     "timestamp": 1749698415567,
     "user": {
      "displayName": "Samyak Shrestha (Caesar)",
      "userId": "13083503381857072620"
     },
     "user_tz": 300
    },
    "id": "fgIPiXuvIiRq",
    "outputId": "e2299a99-2e66-4723-fd7e-16369e208409"
   },
   "outputs": [
    {
     "name": "stdout",
     "output_type": "stream",
     "text": [
      "**Thoracic Findings:**\n",
      "\n",
      "* **Bibasilar Reticulonodular Opacities:** Bilateral interstitial infiltrates with a reticular pattern and nodules, typically indicating an inflammatory or infectious process.\n",
      "* **Mild Blunting of Left Costophrenic Angle:** Slight elevation of the costophrenic angle, suggesting a small pleural effusion (less than 200 mL).\n",
      "* **Normal Cardiac Silhouette:** The heart's size and shape appear unchanged, ruling out significant cardiomegaly or pericardial disease.\n",
      "* **Midline Trachea:** The trachea's position is centered, which is normal and does not suggest any significant airway obstruction or mediastinal shift.\n",
      "* **Intact Bony Thorax:** No evidence of rib fractures, lytic lesions, or other bony abnormalities affecting the thoracic cage.\n",
      "\n",
      "Note: These findings are based solely on the provided chest radiograph description and do not account for potential clinical correlations or further diagnostic testing required to confirm these interpretations.\n"
     ]
    }
   ],
   "source": [
    "# Define your custom prompt\n",
    "prompt = \"\"\"### Question:\n",
    "Summarize the key thoracic findings.\n",
    "\n",
    "### Context:\n",
    "Chest radiograph shows bibasilar reticulonodular opacities, more pronounced on the right. Mild blunting of the left costophrenic angle suggests a small effusion. The cardiac silhouette is within normal limits. No pneumothorax or acute consolidation is noted. Trachea is midline. Bony thorax appears intact with no obvious rib fractures or lytic lesions.\n",
    "\n",
    "### Instruction:\n",
    "Using only the information provided, summarize the thoracic findings in a concise radiology report style. Do not speculate beyond the context. If any finding is uncertain or equivocal, clearly indicate that. Provide terse definitions of any diagnostic terms used.\n",
    "\n",
    "### Answer:\"\"\"\n",
    "\n",
    "# Generate output\n",
    "outputs = pipe(\n",
    "    prompt,\n",
    "    max_new_tokens=256,\n",
    "    temperature=0.3,\n",
    "    top_p=0.9,\n",
    "    repetition_penalty=1.1,\n",
    "    do_sample=True\n",
    ")\n",
    "\n",
    "# Show result\n",
    "raw_output = outputs[0][\"generated_text\"]\n",
    "answer_only = raw_output.split(\"### Answer:\")[-1].strip()\n",
    "print(answer_only)"
   ]
  },
  {
   "cell_type": "code",
   "execution_count": 33,
   "metadata": {
    "colab": {
     "base_uri": "https://localhost:8080/"
    },
    "executionInfo": {
     "elapsed": 10845,
     "status": "ok",
     "timestamp": 1749699365808,
     "user": {
      "displayName": "Samyak Shrestha (Caesar)",
      "userId": "13083503381857072620"
     },
     "user_tz": 300
    },
    "id": "WLDhNbR7NHt0",
    "outputId": "7a75d16b-5c47-4f62-9199-0d0581103da1"
   },
   "outputs": [
    {
     "name": "stdout",
     "output_type": "stream",
     "text": [
      "Thoracic Findings:\n",
      "\n",
      "* **Hyperinflation**: Overinflation of lung tissue resulting in increased lung volume.\n",
      "* **Irregular interstitial markings**: Disorganized patterns of fibrosis and/or inflammation within the lung parenchyma.\n",
      "* **Focal alveolar consolidation**: Localized areas of lung consolidation (e.g., pneumonia).\n",
      "* **Pleural effusion**: Accumulation of fluid between the lungs and chest wall.\n",
      "* **Heart size**: Normal limits; \"near top\" implies slightly enlarged.\n",
      "* **Aortic ectasia/tortuosity**: Abnormal widening or twisting of the aorta.\n",
      "* **Right hemidiaphragm eventration**: Asymmetrical elevation of the diaphragm on one side due to muscle weakness or paralysis.\n",
      "\n",
      "Note: The absence of specific findings does not necessarily imply their nonexistence. For example, mild hyperinflation may be present without overt clinical significance. Similarly, the lack of pleural effusion does not rule out its presence entirely.\n"
     ]
    }
   ],
   "source": [
    "# Define your custom prompt\n",
    "prompt = \"\"\"### Question:\n",
    "Summarize the key thoracic findings.\n",
    "\n",
    "### Context:\n",
    "Mild hyperinflation. Scattered chronic appearing irregular interstitial markings with no focal alveolar consolidation. No definite pleural effusion seen. Heart size near top normal limits, aortic ectasia/tortuosity similar to prior. Right hemidiaphragm eventration. No typical findings of pulmonary edema.\n",
    "\n",
    "### Instruction:\n",
    "Using only the information provided, summarize the thoracic findings in a concise radiology report style. Do not speculate beyond the context. If any finding is uncertain or equivocal, clearly indicate that. Provide terse definitions of any diagnostic terms used.\n",
    "\n",
    "### Answer:\"\"\"\n",
    "\n",
    "# Generate output\n",
    "outputs = pipe(\n",
    "    prompt,\n",
    "    max_new_tokens=256,\n",
    "    temperature=0.3,\n",
    "    top_p=0.9,\n",
    "    repetition_penalty=1.1,\n",
    "    do_sample=True\n",
    ")\n",
    "\n",
    "# Show result\n",
    "raw_output = outputs[0][\"generated_text\"]\n",
    "answer_only = raw_output.split(\"### Answer:\")[-1].strip()\n",
    "print(answer_only)"
   ]
  },
  {
   "cell_type": "code",
   "execution_count": null,
   "metadata": {
    "id": "9lUFx8f7NWA3"
   },
   "outputs": [],
   "source": [
    "# Define your custom prompt\n",
    "prompt = \"\"\"### Question:\n",
    "Summarize the key thoracic findings.\n",
    "\n",
    "### Context:\n",
    "Mild hyperinflation. Scattered chronic appearing irregular interstitial markings with no focal alveolar consolidation. No definite pleural effusion seen. Heart size near top normal limits, aortic ectasia/tortuosity similar to prior. Right hemidiaphragm eventration. No typical findings of pulmonary edema.\n",
    "\n",
    "### Instruction:\n",
    "Using only the information provided, summarize the thoracic findings in a concise radiology report style. Do not speculate beyond the context. If any finding is uncertain or equivocal, clearly indicate that. Provide terse definitions of any diagnostic terms used.\n",
    "\n",
    "### Answer:\"\"\"\n",
    "\n",
    "# Generate output\n",
    "outputs = pipe(\n",
    "    prompt,\n",
    "    max_new_tokens=256,\n",
    "    temperature=0.3,\n",
    "    top_p=0.9,\n",
    "    repetition_penalty=1.1,\n",
    "    do_sample=True\n",
    ")\n",
    "\n",
    "# Show result\n",
    "raw_output = outputs[0][\"generated_text\"]\n",
    "answer_only = raw_output.split(\"### Answer:\")[-1].strip()\n",
    "print(answer_only)"
   ]
  },
  {
   "cell_type": "code",
   "execution_count": 34,
   "metadata": {
    "colab": {
     "base_uri": "https://localhost:8080/"
    },
    "executionInfo": {
     "elapsed": 8866,
     "status": "ok",
     "timestamp": 1749699658114,
     "user": {
      "displayName": "Samyak Shrestha (Caesar)",
      "userId": "13083503381857072620"
     },
     "user_tz": 300
    },
    "id": "ySKbmszWOTLz",
    "outputId": "3f1c5427-abcf-484f-c319-488a8b067c91"
   },
   "outputs": [
    {
     "name": "stdout",
     "output_type": "stream",
     "text": [
      "Thoracic Findings:\n",
      "\n",
      "* Heart size: Moderately enlarged\n",
      "* Aorta: Ectasia/Tortuosity\n",
      "* Diaphragm: Eventration (right hemidiaphragm)\n",
      "* Lungs: No focal alveolar consolidation; No definite pleural effusion; Vascular redistribution without pulmonary edema; No pneumothorax\n",
      "\n",
      "Note: Definitions:\n",
      "- Eventration: An abnormal elevation of a portion of the diaphragm.\n",
      "- Ectasia: Enlargement of a blood vessel due to thinning and stretching of its wall.\n",
      "- Tortuosity: Winding or twisting of a blood vessel.\n"
     ]
    }
   ],
   "source": [
    "# Define your custom prompt\n",
    "prompt = \"\"\"### Question:\n",
    "Summarize the key thoracic findings.\n",
    "\n",
    "### Context:\n",
    "Heart size moderately enlarged for technique, aortic ectasia/tortuosity. Right hemidiaphragm eventration. No focal alveolar consolidation, no definite pleural effusion seen. Vascular redistribution without typical findings of pulmonary edema. No pneumothorax\n",
    "\n",
    "### Instruction:\n",
    "Using only the information provided, summarize the thoracic findings in a concise radiology report style. Do not speculate beyond the context. If any finding is uncertain or equivocal, clearly indicate that. Provide terse definitions of any diagnostic terms used.\n",
    "\n",
    "### Answer:\"\"\"\n",
    "\n",
    "# Generate output\n",
    "outputs = pipe(\n",
    "    prompt,\n",
    "    max_new_tokens=256,\n",
    "    temperature=0.3,\n",
    "    top_p=0.9,\n",
    "    repetition_penalty=1.1,\n",
    "    do_sample=True\n",
    ")\n",
    "\n",
    "# Show result\n",
    "raw_output = outputs[0][\"generated_text\"]\n",
    "answer_only = raw_output.split(\"### Answer:\")[-1].strip()\n",
    "print(answer_only)"
   ]
  },
  {
   "cell_type": "code",
   "execution_count": 35,
   "metadata": {
    "colab": {
     "base_uri": "https://localhost:8080/"
    },
    "executionInfo": {
     "elapsed": 8538,
     "status": "ok",
     "timestamp": 1749699925310,
     "user": {
      "displayName": "Samyak Shrestha (Caesar)",
      "userId": "13083503381857072620"
     },
     "user_tz": 300
    },
    "id": "MLeInKuEOd3E",
    "outputId": "471ac366-4a47-4cb0-add6-7464b551ef0d"
   },
   "outputs": [
    {
     "name": "stdout",
     "output_type": "stream",
     "text": [
      "This chest radiograph shows a heart of normal size with minimal aortic tortuosity. Mild right basal scarring and atelectasis are present without evidence of pneumothorax or pleural effusion. Lung fields appear clear. Osseous structures remain intact.\n",
      "\n",
      "**Definitions:**\n",
      "\n",
      "- **Aortic Tortuosity:** An abnormal curvature of the aorta.\n",
      "- **Basal Scarring:** Fibrosis (scar tissue) in the lower parts of the lungs.\n",
      "- **Atelectasis:** Collapse or closure of a lung resulting in reduced or absent gas exchange.\n",
      "- **Pneumothorax:** Air in the pleural space surrounding the lungs, which can collapse the lung.\n",
      "- **Pleural Effusion:** Accumulation of fluid between the lungs and chest wall.\n"
     ]
    }
   ],
   "source": [
    "# Define your custom prompt\n",
    "prompt = \"\"\"### Question:\n",
    "Summarize the key thoracic findings.\n",
    "\n",
    "### Context:\n",
    "The heart is top normal in size. The aorta is mildly tortuous. There is mild right basilar scarring versus atelectasis. Lungs are otherwise clear. No pneumothorax or effusion. Osseous structures are intact.\n",
    "\n",
    "### Instruction:\n",
    "Write a professional radiology report summary using only the findings in the context. Present them in fluent narrative prose. Do not speculate or add inferred pathophysiology. If uncertain or ambiguous findings are mentioned, preserve that uncertainty. After the summary, briefly define any diagnostic terms used.\n",
    "\n",
    "### Answer:\"\"\"\n",
    "\n",
    "# Generate output\n",
    "outputs = pipe(\n",
    "    prompt,\n",
    "    max_new_tokens=256,\n",
    "    temperature=0.3,\n",
    "    top_p=0.9,\n",
    "    repetition_penalty=1.1,\n",
    "    do_sample=True\n",
    ")\n",
    "\n",
    "# Show result\n",
    "raw_output = outputs[0][\"generated_text\"]\n",
    "answer_only = raw_output.split(\"### Answer:\")[-1].strip()\n",
    "print(answer_only)"
   ]
  }
 ],
 "metadata": {
  "accelerator": "GPU",
  "colab": {
   "authorship_tag": "ABX9TyPy1EbrbW8HtPHoDGnNzh/9",
   "gpuType": "T4",
   "provenance": []
  },
  "kernelspec": {
   "display_name": "Python 3",
   "name": "python3"
  },
  "language_info": {
   "name": "python"
  },
  "widgets": {
   "application/vnd.jupyter.widget-state+json": {
    "27d6d68eac2543f6b6f4b4e5168f09ed": {
     "model_module": "@jupyter-widgets/controls",
     "model_module_version": "1.5.0",
     "model_name": "DescriptionStyleModel",
     "state": {
      "_model_module": "@jupyter-widgets/controls",
      "_model_module_version": "1.5.0",
      "_model_name": "DescriptionStyleModel",
      "_view_count": null,
      "_view_module": "@jupyter-widgets/base",
      "_view_module_version": "1.2.0",
      "_view_name": "StyleView",
      "description_width": ""
     }
    },
    "2cec2c0536774e0daded0125f807b964": {
     "model_module": "@jupyter-widgets/base",
     "model_module_version": "1.2.0",
     "model_name": "LayoutModel",
     "state": {
      "_model_module": "@jupyter-widgets/base",
      "_model_module_version": "1.2.0",
      "_model_name": "LayoutModel",
      "_view_count": null,
      "_view_module": "@jupyter-widgets/base",
      "_view_module_version": "1.2.0",
      "_view_name": "LayoutView",
      "align_content": null,
      "align_items": null,
      "align_self": null,
      "border": null,
      "bottom": null,
      "display": null,
      "flex": null,
      "flex_flow": null,
      "grid_area": null,
      "grid_auto_columns": null,
      "grid_auto_flow": null,
      "grid_auto_rows": null,
      "grid_column": null,
      "grid_gap": null,
      "grid_row": null,
      "grid_template_areas": null,
      "grid_template_columns": null,
      "grid_template_rows": null,
      "height": null,
      "justify_content": null,
      "justify_items": null,
      "left": null,
      "margin": null,
      "max_height": null,
      "max_width": null,
      "min_height": null,
      "min_width": null,
      "object_fit": null,
      "object_position": null,
      "order": null,
      "overflow": null,
      "overflow_x": null,
      "overflow_y": null,
      "padding": null,
      "right": null,
      "top": null,
      "visibility": null,
      "width": null
     }
    },
    "3c1f7a3639bc491090ded904943172ff": {
     "model_module": "@jupyter-widgets/controls",
     "model_module_version": "1.5.0",
     "model_name": "CheckboxModel",
     "state": {
      "_dom_classes": [],
      "_model_module": "@jupyter-widgets/controls",
      "_model_module_version": "1.5.0",
      "_model_name": "CheckboxModel",
      "_view_count": null,
      "_view_module": "@jupyter-widgets/controls",
      "_view_module_version": "1.5.0",
      "_view_name": "CheckboxView",
      "description": "Add token as git credential?",
      "description_tooltip": null,
      "disabled": false,
      "indent": true,
      "layout": "IPY_MODEL_83e230017b934139af82e062aa3792f5",
      "style": "IPY_MODEL_8c34e36d47a44919bd66143c547e3a3a",
      "value": true
     }
    },
    "58c3dc0acfda4ec3aac73b806ca7fd50": {
     "model_module": "@jupyter-widgets/controls",
     "model_module_version": "1.5.0",
     "model_name": "LabelModel",
     "state": {
      "_dom_classes": [],
      "_model_module": "@jupyter-widgets/controls",
      "_model_module_version": "1.5.0",
      "_model_name": "LabelModel",
      "_view_count": null,
      "_view_module": "@jupyter-widgets/controls",
      "_view_module_version": "1.5.0",
      "_view_name": "LabelView",
      "description": "",
      "description_tooltip": null,
      "layout": "IPY_MODEL_76c211b3f4e1444288c314b91b78063e",
      "placeholder": "​",
      "style": "IPY_MODEL_27d6d68eac2543f6b6f4b4e5168f09ed",
      "value": "Connecting..."
     }
    },
    "5f6e01c77bbe4ea6bc3c4c118c95e29a": {
     "model_module": "@jupyter-widgets/controls",
     "model_module_version": "1.5.0",
     "model_name": "DescriptionStyleModel",
     "state": {
      "_model_module": "@jupyter-widgets/controls",
      "_model_module_version": "1.5.0",
      "_model_name": "DescriptionStyleModel",
      "_view_count": null,
      "_view_module": "@jupyter-widgets/base",
      "_view_module_version": "1.2.0",
      "_view_name": "StyleView",
      "description_width": ""
     }
    },
    "6900e10d85d9450aa3cc7b492f7c0ed8": {
     "model_module": "@jupyter-widgets/controls",
     "model_module_version": "1.5.0",
     "model_name": "DescriptionStyleModel",
     "state": {
      "_model_module": "@jupyter-widgets/controls",
      "_model_module_version": "1.5.0",
      "_model_name": "DescriptionStyleModel",
      "_view_count": null,
      "_view_module": "@jupyter-widgets/base",
      "_view_module_version": "1.2.0",
      "_view_name": "StyleView",
      "description_width": ""
     }
    },
    "71e39840371b4453a8c56c0dba73585d": {
     "model_module": "@jupyter-widgets/controls",
     "model_module_version": "1.5.0",
     "model_name": "DescriptionStyleModel",
     "state": {
      "_model_module": "@jupyter-widgets/controls",
      "_model_module_version": "1.5.0",
      "_model_name": "DescriptionStyleModel",
      "_view_count": null,
      "_view_module": "@jupyter-widgets/base",
      "_view_module_version": "1.2.0",
      "_view_name": "StyleView",
      "description_width": ""
     }
    },
    "76c211b3f4e1444288c314b91b78063e": {
     "model_module": "@jupyter-widgets/base",
     "model_module_version": "1.2.0",
     "model_name": "LayoutModel",
     "state": {
      "_model_module": "@jupyter-widgets/base",
      "_model_module_version": "1.2.0",
      "_model_name": "LayoutModel",
      "_view_count": null,
      "_view_module": "@jupyter-widgets/base",
      "_view_module_version": "1.2.0",
      "_view_name": "LayoutView",
      "align_content": null,
      "align_items": null,
      "align_self": null,
      "border": null,
      "bottom": null,
      "display": null,
      "flex": null,
      "flex_flow": null,
      "grid_area": null,
      "grid_auto_columns": null,
      "grid_auto_flow": null,
      "grid_auto_rows": null,
      "grid_column": null,
      "grid_gap": null,
      "grid_row": null,
      "grid_template_areas": null,
      "grid_template_columns": null,
      "grid_template_rows": null,
      "height": null,
      "justify_content": null,
      "justify_items": null,
      "left": null,
      "margin": null,
      "max_height": null,
      "max_width": null,
      "min_height": null,
      "min_width": null,
      "object_fit": null,
      "object_position": null,
      "order": null,
      "overflow": null,
      "overflow_x": null,
      "overflow_y": null,
      "padding": null,
      "right": null,
      "top": null,
      "visibility": null,
      "width": null
     }
    },
    "7d36e314ebca428ea540222940ad2f10": {
     "model_module": "@jupyter-widgets/base",
     "model_module_version": "1.2.0",
     "model_name": "LayoutModel",
     "state": {
      "_model_module": "@jupyter-widgets/base",
      "_model_module_version": "1.2.0",
      "_model_name": "LayoutModel",
      "_view_count": null,
      "_view_module": "@jupyter-widgets/base",
      "_view_module_version": "1.2.0",
      "_view_name": "LayoutView",
      "align_content": null,
      "align_items": null,
      "align_self": null,
      "border": null,
      "bottom": null,
      "display": null,
      "flex": null,
      "flex_flow": null,
      "grid_area": null,
      "grid_auto_columns": null,
      "grid_auto_flow": null,
      "grid_auto_rows": null,
      "grid_column": null,
      "grid_gap": null,
      "grid_row": null,
      "grid_template_areas": null,
      "grid_template_columns": null,
      "grid_template_rows": null,
      "height": null,
      "justify_content": null,
      "justify_items": null,
      "left": null,
      "margin": null,
      "max_height": null,
      "max_width": null,
      "min_height": null,
      "min_width": null,
      "object_fit": null,
      "object_position": null,
      "order": null,
      "overflow": null,
      "overflow_x": null,
      "overflow_y": null,
      "padding": null,
      "right": null,
      "top": null,
      "visibility": null,
      "width": null
     }
    },
    "83e230017b934139af82e062aa3792f5": {
     "model_module": "@jupyter-widgets/base",
     "model_module_version": "1.2.0",
     "model_name": "LayoutModel",
     "state": {
      "_model_module": "@jupyter-widgets/base",
      "_model_module_version": "1.2.0",
      "_model_name": "LayoutModel",
      "_view_count": null,
      "_view_module": "@jupyter-widgets/base",
      "_view_module_version": "1.2.0",
      "_view_name": "LayoutView",
      "align_content": null,
      "align_items": null,
      "align_self": null,
      "border": null,
      "bottom": null,
      "display": null,
      "flex": null,
      "flex_flow": null,
      "grid_area": null,
      "grid_auto_columns": null,
      "grid_auto_flow": null,
      "grid_auto_rows": null,
      "grid_column": null,
      "grid_gap": null,
      "grid_row": null,
      "grid_template_areas": null,
      "grid_template_columns": null,
      "grid_template_rows": null,
      "height": null,
      "justify_content": null,
      "justify_items": null,
      "left": null,
      "margin": null,
      "max_height": null,
      "max_width": null,
      "min_height": null,
      "min_width": null,
      "object_fit": null,
      "object_position": null,
      "order": null,
      "overflow": null,
      "overflow_x": null,
      "overflow_y": null,
      "padding": null,
      "right": null,
      "top": null,
      "visibility": null,
      "width": null
     }
    },
    "8c34e36d47a44919bd66143c547e3a3a": {
     "model_module": "@jupyter-widgets/controls",
     "model_module_version": "1.5.0",
     "model_name": "DescriptionStyleModel",
     "state": {
      "_model_module": "@jupyter-widgets/controls",
      "_model_module_version": "1.5.0",
      "_model_name": "DescriptionStyleModel",
      "_view_count": null,
      "_view_module": "@jupyter-widgets/base",
      "_view_module_version": "1.2.0",
      "_view_name": "StyleView",
      "description_width": ""
     }
    },
    "ac063de0dbb74c2d9baa2cc30806f784": {
     "model_module": "@jupyter-widgets/controls",
     "model_module_version": "1.5.0",
     "model_name": "HTMLModel",
     "state": {
      "_dom_classes": [],
      "_model_module": "@jupyter-widgets/controls",
      "_model_module_version": "1.5.0",
      "_model_name": "HTMLModel",
      "_view_count": null,
      "_view_module": "@jupyter-widgets/controls",
      "_view_module_version": "1.5.0",
      "_view_name": "HTMLView",
      "description": "",
      "description_tooltip": null,
      "layout": "IPY_MODEL_ae421a5dc5554495968240e714644684",
      "placeholder": "​",
      "style": "IPY_MODEL_6900e10d85d9450aa3cc7b492f7c0ed8",
      "value": "\n<b>Pro Tip:</b> If you don't already have one, you can create a dedicated\n'notebooks' token with 'write' access, that you can then easily reuse for all\nnotebooks. </center>"
     }
    },
    "ae421a5dc5554495968240e714644684": {
     "model_module": "@jupyter-widgets/base",
     "model_module_version": "1.2.0",
     "model_name": "LayoutModel",
     "state": {
      "_model_module": "@jupyter-widgets/base",
      "_model_module_version": "1.2.0",
      "_model_name": "LayoutModel",
      "_view_count": null,
      "_view_module": "@jupyter-widgets/base",
      "_view_module_version": "1.2.0",
      "_view_name": "LayoutView",
      "align_content": null,
      "align_items": null,
      "align_self": null,
      "border": null,
      "bottom": null,
      "display": null,
      "flex": null,
      "flex_flow": null,
      "grid_area": null,
      "grid_auto_columns": null,
      "grid_auto_flow": null,
      "grid_auto_rows": null,
      "grid_column": null,
      "grid_gap": null,
      "grid_row": null,
      "grid_template_areas": null,
      "grid_template_columns": null,
      "grid_template_rows": null,
      "height": null,
      "justify_content": null,
      "justify_items": null,
      "left": null,
      "margin": null,
      "max_height": null,
      "max_width": null,
      "min_height": null,
      "min_width": null,
      "object_fit": null,
      "object_position": null,
      "order": null,
      "overflow": null,
      "overflow_x": null,
      "overflow_y": null,
      "padding": null,
      "right": null,
      "top": null,
      "visibility": null,
      "width": null
     }
    },
    "b3abf1193df547c4963ee2ad216d412f": {
     "model_module": "@jupyter-widgets/controls",
     "model_module_version": "1.5.0",
     "model_name": "HTMLModel",
     "state": {
      "_dom_classes": [],
      "_model_module": "@jupyter-widgets/controls",
      "_model_module_version": "1.5.0",
      "_model_name": "HTMLModel",
      "_view_count": null,
      "_view_module": "@jupyter-widgets/controls",
      "_view_module_version": "1.5.0",
      "_view_name": "HTMLView",
      "description": "",
      "description_tooltip": null,
      "layout": "IPY_MODEL_7d36e314ebca428ea540222940ad2f10",
      "placeholder": "​",
      "style": "IPY_MODEL_71e39840371b4453a8c56c0dba73585d",
      "value": "<center> <img\nsrc=https://huggingface.co/front/assets/huggingface_logo-noborder.svg\nalt='Hugging Face'> <br> Copy a token from <a\nhref=\"https://huggingface.co/settings/tokens\" target=\"_blank\">your Hugging Face\ntokens page</a> and paste it below. <br> Immediately click login after copying\nyour token or it might be stored in plain text in this notebook file. </center>"
     }
    },
    "bdb297eab0164e67b8e9cca8541d01b6": {
     "model_module": "@jupyter-widgets/controls",
     "model_module_version": "1.5.0",
     "model_name": "VBoxModel",
     "state": {
      "_dom_classes": [],
      "_model_module": "@jupyter-widgets/controls",
      "_model_module_version": "1.5.0",
      "_model_name": "VBoxModel",
      "_view_count": null,
      "_view_module": "@jupyter-widgets/controls",
      "_view_module_version": "1.5.0",
      "_view_name": "VBoxView",
      "box_style": "",
      "children": [],
      "layout": "IPY_MODEL_c5286462cba94d5a85bcc89c00df3af2"
     }
    },
    "c5286462cba94d5a85bcc89c00df3af2": {
     "model_module": "@jupyter-widgets/base",
     "model_module_version": "1.2.0",
     "model_name": "LayoutModel",
     "state": {
      "_model_module": "@jupyter-widgets/base",
      "_model_module_version": "1.2.0",
      "_model_name": "LayoutModel",
      "_view_count": null,
      "_view_module": "@jupyter-widgets/base",
      "_view_module_version": "1.2.0",
      "_view_name": "LayoutView",
      "align_content": null,
      "align_items": "center",
      "align_self": null,
      "border": null,
      "bottom": null,
      "display": "flex",
      "flex": null,
      "flex_flow": "column",
      "grid_area": null,
      "grid_auto_columns": null,
      "grid_auto_flow": null,
      "grid_auto_rows": null,
      "grid_column": null,
      "grid_gap": null,
      "grid_row": null,
      "grid_template_areas": null,
      "grid_template_columns": null,
      "grid_template_rows": null,
      "height": null,
      "justify_content": null,
      "justify_items": null,
      "left": null,
      "margin": null,
      "max_height": null,
      "max_width": null,
      "min_height": null,
      "min_width": null,
      "object_fit": null,
      "object_position": null,
      "order": null,
      "overflow": null,
      "overflow_x": null,
      "overflow_y": null,
      "padding": null,
      "right": null,
      "top": null,
      "visibility": null,
      "width": "50%"
     }
    },
    "d23bde33a3d54e308d96864cbb052eba": {
     "model_module": "@jupyter-widgets/controls",
     "model_module_version": "1.5.0",
     "model_name": "ButtonModel",
     "state": {
      "_dom_classes": [],
      "_model_module": "@jupyter-widgets/controls",
      "_model_module_version": "1.5.0",
      "_model_name": "ButtonModel",
      "_view_count": null,
      "_view_module": "@jupyter-widgets/controls",
      "_view_module_version": "1.5.0",
      "_view_name": "ButtonView",
      "button_style": "",
      "description": "Login",
      "disabled": false,
      "icon": "",
      "layout": "IPY_MODEL_2cec2c0536774e0daded0125f807b964",
      "style": "IPY_MODEL_e9bf04e37c5844fba477d323d85dc037",
      "tooltip": ""
     }
    },
    "e554b65eda544898b031b6953af168ad": {
     "model_module": "@jupyter-widgets/base",
     "model_module_version": "1.2.0",
     "model_name": "LayoutModel",
     "state": {
      "_model_module": "@jupyter-widgets/base",
      "_model_module_version": "1.2.0",
      "_model_name": "LayoutModel",
      "_view_count": null,
      "_view_module": "@jupyter-widgets/base",
      "_view_module_version": "1.2.0",
      "_view_name": "LayoutView",
      "align_content": null,
      "align_items": null,
      "align_self": null,
      "border": null,
      "bottom": null,
      "display": null,
      "flex": null,
      "flex_flow": null,
      "grid_area": null,
      "grid_auto_columns": null,
      "grid_auto_flow": null,
      "grid_auto_rows": null,
      "grid_column": null,
      "grid_gap": null,
      "grid_row": null,
      "grid_template_areas": null,
      "grid_template_columns": null,
      "grid_template_rows": null,
      "height": null,
      "justify_content": null,
      "justify_items": null,
      "left": null,
      "margin": null,
      "max_height": null,
      "max_width": null,
      "min_height": null,
      "min_width": null,
      "object_fit": null,
      "object_position": null,
      "order": null,
      "overflow": null,
      "overflow_x": null,
      "overflow_y": null,
      "padding": null,
      "right": null,
      "top": null,
      "visibility": null,
      "width": null
     }
    },
    "e9bf04e37c5844fba477d323d85dc037": {
     "model_module": "@jupyter-widgets/controls",
     "model_module_version": "1.5.0",
     "model_name": "ButtonStyleModel",
     "state": {
      "_model_module": "@jupyter-widgets/controls",
      "_model_module_version": "1.5.0",
      "_model_name": "ButtonStyleModel",
      "_view_count": null,
      "_view_module": "@jupyter-widgets/base",
      "_view_module_version": "1.2.0",
      "_view_name": "StyleView",
      "button_color": null,
      "font_weight": ""
     }
    },
    "f0b9823042bb449fb8860040425908e7": {
     "model_module": "@jupyter-widgets/controls",
     "model_module_version": "1.5.0",
     "model_name": "PasswordModel",
     "state": {
      "_dom_classes": [],
      "_model_module": "@jupyter-widgets/controls",
      "_model_module_version": "1.5.0",
      "_model_name": "PasswordModel",
      "_view_count": null,
      "_view_module": "@jupyter-widgets/controls",
      "_view_module_version": "1.5.0",
      "_view_name": "PasswordView",
      "continuous_update": true,
      "description": "Token:",
      "description_tooltip": null,
      "disabled": false,
      "layout": "IPY_MODEL_e554b65eda544898b031b6953af168ad",
      "placeholder": "​",
      "style": "IPY_MODEL_5f6e01c77bbe4ea6bc3c4c118c95e29a",
      "value": ""
     }
    }
   }
  }
 },
 "nbformat": 4,
 "nbformat_minor": 0
}
