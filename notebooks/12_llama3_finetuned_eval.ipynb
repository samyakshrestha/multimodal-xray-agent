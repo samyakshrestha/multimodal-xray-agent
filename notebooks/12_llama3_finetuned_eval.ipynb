{
 "cells": [
  {
   "cell_type": "markdown",
   "metadata": {
    "id": "GNkO6oTk86R3"
   },
   "source": [
    "## Step 0: Mounting Google Drive and Importing Libraries"
   ]
  },
  {
   "cell_type": "code",
   "execution_count": null,
   "metadata": {
    "id": "9VF7DgXk8Q02"
   },
   "outputs": [],
   "source": [
    "from google.colab import drive\n",
    "drive.mount('/content/drive')\n",
    "%cd /content/drive/MyDrive/multimodal-xray-agent\n",
    "!ls"
   ]
  },
  {
   "cell_type": "code",
   "execution_count": 2,
   "metadata": {
    "executionInfo": {
     "elapsed": 16456,
     "status": "ok",
     "timestamp": 1749965591399,
     "user": {
      "displayName": "Samyak Shrestha (Caesar)",
      "userId": "13083503381857072620"
     },
     "user_tz": 300
    },
    "id": "xc3rNoCd86vB"
   },
   "outputs": [],
   "source": [
    "import torch\n",
    "import json\n",
    "import pandas as pd\n",
    "from transformers import AutoTokenizer, AutoModelForCausalLM, BitsAndBytesConfig\n",
    "from peft import PeftModel\n",
    "from huggingface_hub import login"
   ]
  },
  {
   "cell_type": "code",
   "execution_count": 3,
   "metadata": {
    "colab": {
     "base_uri": "https://localhost:8080/",
     "height": 17,
     "referenced_widgets": [
      "500f6a34857143c0b3e41d60cf94bab1",
      "81c94759568e4bb1999a2c162985804f",
      "23935d1366834cb0a9135bf12b53d747",
      "b579f2e9094e426c93d246ebe68d69d7",
      "98a9bd06136d4a73b5b15992a864611f",
      "0b61c2d8d93049478b4b33901a7de603",
      "96720b84f06a40c6a6270502717f7661",
      "12778158e5d8472dbe05f9ef42fce380",
      "625761c4e4334cd480af21a5e7c38457",
      "88e9f8af9aab48b1bd01824b728a3935",
      "c450da18179743f1b929af5789139d18",
      "3fab32644ee04149ae6cb35eba618140",
      "444fbfc1f2ff419dbf252231b95721fd",
      "08011010a7a2446faca58b201967659e",
      "f5a46dee56814c6e92df9cf7f8c5f4c1",
      "633f69c1b40f41b59f59414ecd853960",
      "895ead67a16e4c5e8d137a144f088457",
      "3ca0f77e150944d787e49fd8da3e2bad",
      "cee030b220f44cf38a9248ff6757721c",
      "83357106956640078e6d2024b38cc510"
     ]
    },
    "executionInfo": {
     "elapsed": 30,
     "status": "ok",
     "timestamp": 1749965591444,
     "user": {
      "displayName": "Samyak Shrestha (Caesar)",
      "userId": "13083503381857072620"
     },
     "user_tz": 300
    },
    "id": "nPum9eFFA1ky",
    "outputId": "68d60eb8-3db3-4ce2-a4a9-63ea58ac2a53"
   },
   "outputs": [
    {
     "data": {
      "application/vnd.jupyter.widget-view+json": {
       "model_id": "500f6a34857143c0b3e41d60cf94bab1",
       "version_major": 2,
       "version_minor": 0
      },
      "text/plain": [
       "VBox(children=(HTML(value='<center> <img\\nsrc=https://huggingface.co/front/assets/huggingface_logo-noborder.sv…"
      ]
     },
     "metadata": {},
     "output_type": "display_data"
    }
   ],
   "source": [
    "login()"
   ]
  },
  {
   "cell_type": "markdown",
   "metadata": {
    "id": "Gikaiu6o9CmI"
   },
   "source": [
    "## Step 1: Verifying GPU and Environment"
   ]
  },
  {
   "cell_type": "code",
   "execution_count": 4,
   "metadata": {
    "colab": {
     "base_uri": "https://localhost:8080/"
    },
    "executionInfo": {
     "elapsed": 5,
     "status": "ok",
     "timestamp": 1749965597692,
     "user": {
      "displayName": "Samyak Shrestha (Caesar)",
      "userId": "13083503381857072620"
     },
     "user_tz": 300
    },
    "id": "GBQp2Z2W9FM4",
    "outputId": "9adda472-870a-4ee3-91d6-524c0513e13d"
   },
   "outputs": [
    {
     "name": "stdout",
     "output_type": "stream",
     "text": [
      "GPU detected: Tesla T4\n",
      "Running on device: cuda\n"
     ]
    }
   ],
   "source": [
    "if torch.cuda.is_available():\n",
    "    device_name = torch.cuda.get_device_name(0)\n",
    "    device = torch.device(\"cuda\")\n",
    "    print(f\"GPU detected: {device_name}\")\n",
    "else:\n",
    "    device = torch.device(\"cpu\")\n",
    "    print(\"GPU not detected. Falling back to CPU.\")\n",
    "\n",
    "print(f\"Running on device: {device}\")"
   ]
  },
  {
   "cell_type": "markdown",
   "metadata": {
    "id": "_EMLGQk29LTb"
   },
   "source": [
    "## Step 2: Load the Fine-Tuned Model\n",
    "\n"
   ]
  },
  {
   "cell_type": "code",
   "execution_count": 5,
   "metadata": {
    "executionInfo": {
     "elapsed": 2,
     "status": "ok",
     "timestamp": 1749965599041,
     "user": {
      "displayName": "Samyak Shrestha (Caesar)",
      "userId": "13083503381857072620"
     },
     "user_tz": 300
    },
    "id": "QF9NU_Hl9OjC"
   },
   "outputs": [],
   "source": [
    "base_model_name = \"meta-llama/Llama-3.2-3B-Instruct\""
   ]
  },
  {
   "cell_type": "code",
   "execution_count": 6,
   "metadata": {
    "executionInfo": {
     "elapsed": 3,
     "status": "ok",
     "timestamp": 1749965599299,
     "user": {
      "displayName": "Samyak Shrestha (Caesar)",
      "userId": "13083503381857072620"
     },
     "user_tz": 300
    },
    "id": "_FvAL78M9X5K"
   },
   "outputs": [],
   "source": [
    "adapter_path = \"./models/llama_lora_adapter\""
   ]
  },
  {
   "cell_type": "code",
   "execution_count": null,
   "metadata": {
    "id": "sVb4Gc0d-COP"
   },
   "outputs": [],
   "source": [
    "base_model = AutoModelForCausalLM.from_pretrained(\n",
    "    base_model_name,\n",
    "    torch_dtype=torch.bfloat16,\n",
    "    device_map=\"auto\",\n",
    ")"
   ]
  },
  {
   "cell_type": "code",
   "execution_count": 8,
   "metadata": {
    "executionInfo": {
     "elapsed": 11901,
     "status": "ok",
     "timestamp": 1749965657892,
     "user": {
      "displayName": "Samyak Shrestha (Caesar)",
      "userId": "13083503381857072620"
     },
     "user_tz": 300
    },
    "id": "9gQJYTm5-NXR"
   },
   "outputs": [],
   "source": [
    "# Load the LoRA adapter onto the base model\n",
    "model = PeftModel.from_pretrained(base_model, adapter_path)"
   ]
  },
  {
   "cell_type": "code",
   "execution_count": null,
   "metadata": {
    "id": "P1Zazo4fBLYm"
   },
   "outputs": [],
   "source": [
    "model"
   ]
  },
  {
   "cell_type": "code",
   "execution_count": null,
   "metadata": {
    "id": "oXyc8sVu-m4Q"
   },
   "outputs": [],
   "source": [
    "# Load the Generation Tokenizer\n",
    "tokenizer = AutoTokenizer.from_pretrained(base_model_name)\n",
    "tokenizer.padding_side = 'left'\n",
    "tokenizer.pad_token = tokenizer.eos_token"
   ]
  },
  {
   "cell_type": "code",
   "execution_count": null,
   "metadata": {
    "id": "PIYOVFcg-rhZ"
   },
   "outputs": [],
   "source": [
    "# Set to Eval Mode\n",
    "model.eval()\n",
    "torch.set_grad_enabled(False)"
   ]
  },
  {
   "cell_type": "markdown",
   "metadata": {
    "id": "a9BWThWgFTpS"
   },
   "source": [
    "## Step 3: Evaluation"
   ]
  },
  {
   "cell_type": "code",
   "execution_count": 13,
   "metadata": {
    "executionInfo": {
     "elapsed": 1,
     "status": "ok",
     "timestamp": 1749965762330,
     "user": {
      "displayName": "Samyak Shrestha (Caesar)",
      "userId": "13083503381857072620"
     },
     "user_tz": 300
    },
    "id": "lJHszpkfEyYN"
   },
   "outputs": [],
   "source": [
    "# We will simulate the context that your agents would provide.\n",
    "vision_caption_context = \"The lungs are hyperexpanded. There are no signs of focal consolidation, pleural effusion, or pneumothorax.\"\n",
    "similar_case_context = \"Findings are suggestive of chronic obstructive pulmonary disease (COPD).\"\n",
    "user_query_context = \"Summarize the key thoracic findings.\""
   ]
  },
  {
   "cell_type": "code",
   "execution_count": 14,
   "metadata": {
    "executionInfo": {
     "elapsed": 1,
     "status": "ok",
     "timestamp": 1749965773121,
     "user": {
      "displayName": "Samyak Shrestha (Caesar)",
      "userId": "13083503381857072620"
     },
     "user_tz": 300
    },
    "id": "resNj2-sFm6l"
   },
   "outputs": [],
   "source": [
    "# Construct the rich user prompt\n",
    "user_prompt_content = f\"\"\"\n",
    "A chest X-ray has been provided. Synthesize the following information to generate a concise, professional diagnostic impression.\n",
    "\n",
    "### AI-Generated Image Caption:\n",
    "{vision_caption_context}\n",
    "\n",
    "### Impression from a Similar Case:\n",
    "{similar_case_context}\n",
    "\n",
    "### Original User Query:\n",
    "{user_query_context}\n",
    "\n",
    "Based on all the provided context, generate the final diagnostic impression:\n",
    "\"\"\""
   ]
  },
  {
   "cell_type": "code",
   "execution_count": 15,
   "metadata": {
    "executionInfo": {
     "elapsed": 1,
     "status": "ok",
     "timestamp": 1749965811406,
     "user": {
      "displayName": "Samyak Shrestha (Caesar)",
      "userId": "13083503381857072620"
     },
     "user_tz": 300
    },
    "id": "QKl2FX9xFpjS"
   },
   "outputs": [],
   "source": [
    "# Apply Template and Generate ---\n",
    "messages = [\n",
    "    {\"role\": \"system\", \"content\": \"\"},\n",
    "    {\"role\": \"user\", \"content\": user_prompt_content}\n",
    "]"
   ]
  },
  {
   "cell_type": "code",
   "execution_count": 16,
   "metadata": {
    "executionInfo": {
     "elapsed": 14,
     "status": "ok",
     "timestamp": 1749965845699,
     "user": {
      "displayName": "Samyak Shrestha (Caesar)",
      "userId": "13083503381857072620"
     },
     "user_tz": 300
    },
    "id": "uCkWbhrnFy5d"
   },
   "outputs": [],
   "source": [
    "prompt = tokenizer.apply_chat_template(\n",
    "    messages, tokenize=False, add_generation_prompt=True\n",
    ")"
   ]
  },
  {
   "cell_type": "code",
   "execution_count": 17,
   "metadata": {
    "executionInfo": {
     "elapsed": 2,
     "status": "ok",
     "timestamp": 1749965858688,
     "user": {
      "displayName": "Samyak Shrestha (Caesar)",
      "userId": "13083503381857072620"
     },
     "user_tz": 300
    },
    "id": "vqSJOxgMF7RA"
   },
   "outputs": [],
   "source": [
    "inputs = tokenizer(prompt, return_tensors=\"pt\").to(model.device)"
   ]
  },
  {
   "cell_type": "code",
   "execution_count": 18,
   "metadata": {
    "executionInfo": {
     "elapsed": 19515,
     "status": "ok",
     "timestamp": 1749965887216,
     "user": {
      "displayName": "Samyak Shrestha (Caesar)",
      "userId": "13083503381857072620"
     },
     "user_tz": 300
    },
    "id": "ihy3yMFHF-cR"
   },
   "outputs": [],
   "source": [
    "output_ids = model.generate(\n",
    "    **inputs,\n",
    "    max_new_tokens=256,\n",
    "    do_sample=True,\n",
    "    temperature=0.6,\n",
    "    top_p=0.9,\n",
    "    pad_token_id=tokenizer.pad_token_id\n",
    ")"
   ]
  },
  {
   "cell_type": "code",
   "execution_count": 19,
   "metadata": {
    "executionInfo": {
     "elapsed": 41,
     "status": "ok",
     "timestamp": 1749965898911,
     "user": {
      "displayName": "Samyak Shrestha (Caesar)",
      "userId": "13083503381857072620"
     },
     "user_tz": 300
    },
    "id": "FHupi5eaGApJ"
   },
   "outputs": [],
   "source": [
    "generated_text = tokenizer.batch_decode(output_ids, skip_special_tokens=True)[0]"
   ]
  },
  {
   "cell_type": "code",
   "execution_count": 20,
   "metadata": {
    "colab": {
     "base_uri": "https://localhost:8080/"
    },
    "executionInfo": {
     "elapsed": 5,
     "status": "ok",
     "timestamp": 1749965906786,
     "user": {
      "displayName": "Samyak Shrestha (Caesar)",
      "userId": "13083503381857072620"
     },
     "user_tz": 300
    },
    "id": "O1j6ICpkGIQF",
    "outputId": "66f59d6c-a0d0-4040-cc50-bbfcc3a663bd"
   },
   "outputs": [
    {
     "name": "stdout",
     "output_type": "stream",
     "text": [
      "--- FULL PROMPT SENT TO MODEL ---\n",
      "<|begin_of_text|><|start_header_id|>system<|end_header_id|>\n",
      "\n",
      "Cutting Knowledge Date: December 2023\n",
      "Today Date: 15 Jun 2025\n",
      "\n",
      "<|eot_id|><|start_header_id|>user<|end_header_id|>\n",
      "\n",
      "A chest X-ray has been provided. Synthesize the following information to generate a concise, professional diagnostic impression.\n",
      "\n",
      "### AI-Generated Image Caption:\n",
      "The lungs are hyperexpanded. There are no signs of focal consolidation, pleural effusion, or pneumothorax.\n",
      "\n",
      "### Impression from a Similar Case:\n",
      "Findings are suggestive of chronic obstructive pulmonary disease (COPD).\n",
      "\n",
      "### Original User Query:\n",
      "Summarize the key thoracic findings.\n",
      "\n",
      "Based on all the provided context, generate the final diagnostic impression:<|eot_id|><|start_header_id|>assistant<|end_header_id|>\n",
      "\n",
      "\n",
      "\n",
      "==================================================\n",
      "\n",
      "--- MODEL'S GENERATED OUTPUT ---\n",
      "system\n",
      "\n",
      "Cutting Knowledge Date: December 2023\n",
      "Today Date: 15 Jun 2025\n",
      "\n",
      "user\n",
      "\n",
      "A chest X-ray has been provided. Synthesize the following information to generate a concise, professional diagnostic impression.\n",
      "\n",
      "### AI-Generated Image Caption:\n",
      "The lungs are hyperexpanded. There are no signs of focal consolidation, pleural effusion, or pneumothorax.\n",
      "\n",
      "### Impression from a Similar Case:\n",
      "Findings are suggestive of chronic obstructive pulmonary disease (COPD).\n",
      "\n",
      "### Original User Query:\n",
      "Summarize the key thoracic findings.\n",
      "\n",
      "Based on all the provided context, generate the final diagnostic impression:assistant\n",
      "\n",
      "Hyperinflated lungs, no acute lung process. Stable COPD. No acute cardiopulmonary abnormality. No thoracic aorta dissection. No mediastinal contour abnormality. No pleural effusion. No pneumothorax. No focal airspace disease. No nodules. No masses. No rib fractures. No acute vertebral fracture. No acute cervical spine abnormality. No acute head injury. No acute intracranial hemorrhage. No acute pericardial effusion. No pneumoperitoneum. No free fluid in the abdomen. No acute bowel obstruction. No acute diverticulitis. No acute appendicitis. No pneumothorax. No pneumoperitoneum. No acute thoracic aorta dissection. No mediastinal contour abnormality. No pleural effusion. No acute lung process. No focal airspace disease. No nodules. No masses. No rib fractures. No acute vertebral fracture. No acute cervical spine abnormality. No acute head injury. No acute intracranial hemorrhage. No acute pericardial effusion. No free fluid in the abdomen. No acute bowel obstruction. No acute diverticulitis. No acute appendicitis. No acute thoracic\n"
     ]
    }
   ],
   "source": [
    "# Analyze the Result\n",
    "print(\"--- FULL PROMPT SENT TO MODEL ---\")\n",
    "print(prompt)\n",
    "print(\"\\n\" + \"=\"*50 + \"\\n\")\n",
    "print(\"--- MODEL'S GENERATED OUTPUT ---\")\n",
    "print(generated_text.split(\"<|end_header_id|>\")[-1].strip())"
   ]
  },
  {
   "cell_type": "markdown",
   "metadata": {
    "id": "m1Qs7bqiHZ1k"
   },
   "source": [
    "## Step 4: Comparing with the Base Model"
   ]
  },
  {
   "cell_type": "code",
   "execution_count": null,
   "metadata": {
    "id": "XYP9IXR8GKLt"
   },
   "outputs": [],
   "source": [
    "base_model_1 = AutoModelForCausalLM.from_pretrained(\n",
    "    base_model_name,\n",
    "    torch_dtype=torch.bfloat16,\n",
    "    device_map=\"auto\",\n",
    ")"
   ]
  },
  {
   "cell_type": "code",
   "execution_count": null,
   "metadata": {
    "id": "p3dQDXI9Hm3f"
   },
   "outputs": [],
   "source": [
    "base_model_1.eval()"
   ]
  },
  {
   "cell_type": "code",
   "execution_count": null,
   "metadata": {
    "id": "aMHuWPNNHrHm"
   },
   "outputs": [],
   "source": [
    "torch.set_grad_enabled(False)"
   ]
  },
  {
   "cell_type": "code",
   "execution_count": 25,
   "metadata": {
    "executionInfo": {
     "elapsed": 3075,
     "status": "ok",
     "timestamp": 1749966378988,
     "user": {
      "displayName": "Samyak Shrestha (Caesar)",
      "userId": "13083503381857072620"
     },
     "user_tz": 300
    },
    "id": "9ShA0A4QHw1O"
   },
   "outputs": [],
   "source": [
    "output_ids = base_model_1.generate(\n",
    "    **inputs,\n",
    "    max_new_tokens=256,\n",
    "    do_sample=True,\n",
    "    temperature=0.6,\n",
    "    top_p=0.9,\n",
    "    pad_token_id=tokenizer.pad_token_id\n",
    ")"
   ]
  },
  {
   "cell_type": "code",
   "execution_count": 26,
   "metadata": {
    "executionInfo": {
     "elapsed": 2,
     "status": "ok",
     "timestamp": 1749966395907,
     "user": {
      "displayName": "Samyak Shrestha (Caesar)",
      "userId": "13083503381857072620"
     },
     "user_tz": 300
    },
    "id": "Tm433xy_H8ty"
   },
   "outputs": [],
   "source": [
    "generated_text = tokenizer.batch_decode(output_ids, skip_special_tokens=True)[0]"
   ]
  },
  {
   "cell_type": "code",
   "execution_count": 27,
   "metadata": {
    "colab": {
     "base_uri": "https://localhost:8080/"
    },
    "executionInfo": {
     "elapsed": 8,
     "status": "ok",
     "timestamp": 1749966403801,
     "user": {
      "displayName": "Samyak Shrestha (Caesar)",
      "userId": "13083503381857072620"
     },
     "user_tz": 300
    },
    "id": "bgGz7j_eIBmJ",
    "outputId": "5626f885-bae7-465f-9add-f81e431a86aa"
   },
   "outputs": [
    {
     "name": "stdout",
     "output_type": "stream",
     "text": [
      "--- FULL PROMPT SENT TO MODEL ---\n",
      "<|begin_of_text|><|start_header_id|>system<|end_header_id|>\n",
      "\n",
      "Cutting Knowledge Date: December 2023\n",
      "Today Date: 15 Jun 2025\n",
      "\n",
      "<|eot_id|><|start_header_id|>user<|end_header_id|>\n",
      "\n",
      "A chest X-ray has been provided. Synthesize the following information to generate a concise, professional diagnostic impression.\n",
      "\n",
      "### AI-Generated Image Caption:\n",
      "The lungs are hyperexpanded. There are no signs of focal consolidation, pleural effusion, or pneumothorax.\n",
      "\n",
      "### Impression from a Similar Case:\n",
      "Findings are suggestive of chronic obstructive pulmonary disease (COPD).\n",
      "\n",
      "### Original User Query:\n",
      "Summarize the key thoracic findings.\n",
      "\n",
      "Based on all the provided context, generate the final diagnostic impression:<|eot_id|><|start_header_id|>assistant<|end_header_id|>\n",
      "\n",
      "\n",
      "\n",
      "==================================================\n",
      "\n",
      "--- MODEL'S GENERATED OUTPUT ---\n",
      "system\n",
      "\n",
      "Cutting Knowledge Date: December 2023\n",
      "Today Date: 15 Jun 2025\n",
      "\n",
      "user\n",
      "\n",
      "A chest X-ray has been provided. Synthesize the following information to generate a concise, professional diagnostic impression.\n",
      "\n",
      "### AI-Generated Image Caption:\n",
      "The lungs are hyperexpanded. There are no signs of focal consolidation, pleural effusion, or pneumothorax.\n",
      "\n",
      "### Impression from a Similar Case:\n",
      "Findings are suggestive of chronic obstructive pulmonary disease (COPD).\n",
      "\n",
      "### Original User Query:\n",
      "Summarize the key thoracic findings.\n",
      "\n",
      "Based on all the provided context, generate the final diagnostic impression:assistant\n",
      "\n",
      "**Diagnostic Impression:**\n",
      "\n",
      "The chest X-ray reveals hyperexpanded lungs without evidence of consolidation, pleural effusion, or pneumothorax. These findings are consistent with chronic obstructive pulmonary disease (COPD), a condition characterized by chronic lung inflation and airway obstruction.\n"
     ]
    }
   ],
   "source": [
    "# Analyze the Result\n",
    "print(\"--- FULL PROMPT SENT TO MODEL ---\")\n",
    "print(prompt)\n",
    "print(\"\\n\" + \"=\"*50 + \"\\n\")\n",
    "print(\"--- MODEL'S GENERATED OUTPUT ---\")\n",
    "print(generated_text.split(\"<|end_header_id|>\")[-1].strip())"
   ]
  },
  {
   "cell_type": "markdown",
   "metadata": {
    "id": "EFnXEBTOK22h"
   },
   "source": [
    "## Step 5: Fixing Metadata"
   ]
  },
  {
   "cell_type": "code",
   "execution_count": 1,
   "metadata": {
    "executionInfo": {
     "elapsed": 6883,
     "status": "ok",
     "timestamp": 1749967187947,
     "user": {
      "displayName": "Samyak Shrestha (Caesar)",
      "userId": "13083503381857072620"
     },
     "user_tz": 300
    },
    "id": "W9QIVQfVK2On"
   },
   "outputs": [],
   "source": [
    "!pip install nbformat --q"
   ]
  },
  {
   "cell_type": "code",
   "execution_count": null,
   "metadata": {
    "id": "HJrQie9SLP7f"
   },
   "outputs": [],
   "source": [
    "import nbformat\n",
    "import os"
   ]
  },
  {
   "cell_type": "code",
   "execution_count": 2,
   "metadata": {
    "colab": {
     "base_uri": "https://localhost:8080/"
    },
    "executionInfo": {
     "elapsed": 14862,
     "status": "ok",
     "timestamp": 1749967202821,
     "user": {
      "displayName": "Samyak Shrestha (Caesar)",
      "userId": "13083503381857072620"
     },
     "user_tz": 300
    },
    "id": "-9uySuicK-e7",
    "outputId": "93f8d71e-c0f6-4267-cca1-01c0bc0ca547"
   },
   "outputs": [
    {
     "name": "stdout",
     "output_type": "stream",
     "text": [
      "Mounted at /content/drive\n"
     ]
    }
   ],
   "source": [
    "from google.colab import drive, files\n",
    "drive.mount('/content/drive', force_remount=True)"
   ]
  },
  {
   "cell_type": "code",
   "execution_count": 3,
   "metadata": {
    "colab": {
     "base_uri": "https://localhost:8080/"
    },
    "executionInfo": {
     "elapsed": 1235,
     "status": "ok",
     "timestamp": 1749967224865,
     "user": {
      "displayName": "Samyak Shrestha (Caesar)",
      "userId": "13083503381857072620"
     },
     "user_tz": 300
    },
    "id": "DPGYlCn5LA-2",
    "outputId": "c7491583-a707-45d9-c648-5259be5fa588"
   },
   "outputs": [
    {
     "data": {
      "text/plain": [
       "['.gitkeep',\n",
       " '00_colab_setup.ipynb',\n",
       " '01_bootstrap.ipynb',\n",
       " '02_preprocessing.ipynb',\n",
       " '04_text_embedding_faiss_indexing.ipynb',\n",
       " '03_image_embedding_faiss_indexing.ipynb',\n",
       " '05_iu_xray_processing.ipynb',\n",
       " '06_generate_qa_pairs.ipynb',\n",
       " '08_finetune_biogpt_lora_run2.ipynb',\n",
       " '10_tokenization.ipynb',\n",
       " '09_llama3_zero_shot_eval.ipynb',\n",
       " '07_finetune_biogpt_lora.ipynb',\n",
       " 'Copy of 10_tokenization.ipynb',\n",
       " '11_finetune_llama3.2_lora.ipynb',\n",
       " '10_tokenization_fixed.ipynb',\n",
       " '12_llama3_finetuned_eval.ipynb']"
      ]
     },
     "execution_count": 3,
     "metadata": {},
     "output_type": "execute_result"
    }
   ],
   "source": [
    "# List the notebook directory to confirm the file existsos.listdir(\"/content/drive/MyDrive/multimodal-xray-agent/notebooks\")"
   ]
  },
  {
   "cell_type": "code",
   "execution_count": null,
   "metadata": {
    "id": "VudXFrUlLK5W"
   },
   "outputs": [],
   "source": [
    "notebook_path = \"/content/drive/MyDrive/llm-finetuning-project/llm-finetuning-summarizer/notebooks/07_evaluation_closed_book.ipynb\"\n",
    "\n",
    "with open(notebook_path, \"r\") as f:\n",
    "    nb = nbformat.read(f, as_version=4)\n",
    "\n",
    "if \"widgets\" in nb.metadata:\n",
    "    del nb.metadata[\"widgets\"]\n",
    "\n",
    "with open(notebook_path, \"w\") as f:\n",
    "    nbformat.write(nb, f)\n",
    "\n",
    "print(\"Notebook fixed and saved successfully!\")"
   ]
  }
 ],
 "metadata": {
  "colab": {
   "authorship_tag": "ABX9TyPqMSVsGsWVYWVxqreVYu3i",
   "machine_shape": "hm",
   "provenance": []
  },
  "kernelspec": {
   "display_name": "Python 3",
   "name": "python3"
  },
  "language_info": {
   "name": "python"
  }
 },
 "nbformat": 4,
 "nbformat_minor": 0
}
